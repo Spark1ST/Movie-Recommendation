{
  "cells": [
    {
      "cell_type": "markdown",
      "source": [
        "# **Movie Recommendition System**"
      ],
      "metadata": {
        "id": "aRm8etAy0EcX"
      }
    },
    {
      "cell_type": "code",
      "execution_count": null,
      "metadata": {
        "id": "dmMuYYtSeALW"
      },
      "outputs": [],
      "source": [
        "import pandas as pd\n",
        "import matplotlib.pyplot as plt\n",
        "import seaborn as sns\n",
        "from sklearn.metrics.pairwise import cosine_similarity\n",
        "from sklearn.feature_extraction.text import TfidfVectorizer\n",
        "from surprise import Dataset, Reader, SVD\n",
        "from surprise.model_selection import cross_validate, train_test_split\n",
        "from surprise import accuracy\n",
        "\n",
        "import warnings\n",
        "warnings.filterwarnings('ignore')"
      ]
    },
    {
      "cell_type": "markdown",
      "source": [
        "# **Datasets Overview**"
      ],
      "metadata": {
        "id": "U9LOAlM8009H"
      }
    },
    {
      "cell_type": "markdown",
      "source": [
        "### **1) Ratings Dataset**\n",
        "\n",
        "- All ratings are contained in the file `ratings.csv`. Each line of this file after the header row represents one rating of one movie by one user, and has attributes (userId, movieId, rating, timestamp).\n",
        "\n",
        "- The lines within this file are ordered first by userId, then, within user, by movieId.\n",
        "\n",
        "**NOTE** :Ratings are made on a 5-star scale, with half-star increments (0.5 stars - 5.0 stars)."
      ],
      "metadata": {
        "id": "iMmwZNvG04eF"
      }
    },
    {
      "cell_type": "markdown",
      "source": [
        "### **2) Movies Dataset**\n",
        "\n",
        "- Movie information is contained in the file `movies.csv`. Each line of this file after the header row represents one movie, and has attributes (movieId, title, genres)\n",
        "\n",
        "- Genres are a pipe-separated list, and are selected from the following: (Action, Adventure, Animation, Children's, Comedy, Crime, Documentary, Drama, Fantasy, Film-Noir, Horror, Musical, Mystery, Romance, Sci-Fi, Thriller, War, Western, no genres listed).\n"
      ],
      "metadata": {
        "id": "IJxkvj7y1pGX"
      }
    },
    {
      "cell_type": "markdown",
      "source": [
        "### **3) Links Dataset**\n",
        "\n",
        "- All links are contained in the file `links.csv` with attributes (movieId, imdbId, tmdbId)\n",
        "\n",
        "- movieId is an identifier for movies used by <https://movielens.org>.\n",
        "\n",
        "- imdbId is an identifier for movies used by <http://www.imdb.com>.\n",
        "\n",
        "- tmdbId is an identifier for movies used by <https://www.themoviedb.org>."
      ],
      "metadata": {
        "id": "dRTTD2X-2fQo"
      }
    },
    {
      "cell_type": "markdown",
      "source": [
        "### **4) Tags Dataset**\n",
        "\n",
        "- All tags are contained in the file `tags.csv`. Each line of this file after the header row represents one tag applied to one movie by one user, and has attributes (userId, movieId, tag, timestamp)."
      ],
      "metadata": {
        "id": "nSsrr5Ft3Ame"
      }
    },
    {
      "cell_type": "code",
      "execution_count": null,
      "metadata": {
        "id": "jtu0583geALY"
      },
      "outputs": [],
      "source": [
        "ratings = pd.read_csv('ml-latest-small/ratings.csv')\n",
        "movies = pd.read_csv('ml-latest-small/movies.csv')\n",
        "links = pd.read_csv('ml-latest-small/links.csv')\n",
        "tags = pd.read_csv('ml-latest-small/tags.csv')"
      ]
    },
    {
      "cell_type": "markdown",
      "source": [
        "# **Data Preprocessing**"
      ],
      "metadata": {
        "id": "8tMp2HqOs7Dc"
      }
    },
    {
      "cell_type": "markdown",
      "source": [
        "## **Check Null Values**"
      ],
      "metadata": {
        "id": "lZSHL6UA3nTc"
      }
    },
    {
      "cell_type": "code",
      "execution_count": null,
      "metadata": {
        "colab": {
          "base_uri": "https://localhost:8080/"
        },
        "id": "lkumKltpeALa",
        "outputId": "ab07246f-b054-4019-aae1-aea98c84f2bf"
      },
      "outputs": [
        {
          "output_type": "stream",
          "name": "stdout",
          "text": [
            "userId       0\n",
            "movieId      0\n",
            "rating       0\n",
            "timestamp    0\n",
            "dtype: int64\n",
            "movieId    0\n",
            "title      0\n",
            "genres     0\n",
            "dtype: int64\n",
            "userId       0\n",
            "movieId      0\n",
            "tag          0\n",
            "timestamp    0\n",
            "dtype: int64\n",
            "movieId    0\n",
            "imdbId     0\n",
            "tmdbId     8\n",
            "dtype: int64\n"
          ]
        }
      ],
      "source": [
        "print(ratings.isnull().sum())\n",
        "print(movies.isnull().sum())\n",
        "print(tags.isnull().sum())\n",
        "print(links.isnull().sum())"
      ]
    },
    {
      "cell_type": "code",
      "execution_count": null,
      "metadata": {
        "colab": {
          "base_uri": "https://localhost:8080/",
          "height": 178
        },
        "id": "A4eFaAT0eALc",
        "outputId": "669a43aa-2b72-44f9-b7c9-74e98b6658fe"
      },
      "outputs": [
        {
          "output_type": "execute_result",
          "data": {
            "text/plain": [
              "movieId    0\n",
              "imdbId     0\n",
              "tmdbId     8\n",
              "dtype: int64"
            ],
            "text/html": [
              "<div>\n",
              "<style scoped>\n",
              "    .dataframe tbody tr th:only-of-type {\n",
              "        vertical-align: middle;\n",
              "    }\n",
              "\n",
              "    .dataframe tbody tr th {\n",
              "        vertical-align: top;\n",
              "    }\n",
              "\n",
              "    .dataframe thead th {\n",
              "        text-align: right;\n",
              "    }\n",
              "</style>\n",
              "<table border=\"1\" class=\"dataframe\">\n",
              "  <thead>\n",
              "    <tr style=\"text-align: right;\">\n",
              "      <th></th>\n",
              "      <th>0</th>\n",
              "    </tr>\n",
              "  </thead>\n",
              "  <tbody>\n",
              "    <tr>\n",
              "      <th>movieId</th>\n",
              "      <td>0</td>\n",
              "    </tr>\n",
              "    <tr>\n",
              "      <th>imdbId</th>\n",
              "      <td>0</td>\n",
              "    </tr>\n",
              "    <tr>\n",
              "      <th>tmdbId</th>\n",
              "      <td>8</td>\n",
              "    </tr>\n",
              "  </tbody>\n",
              "</table>\n",
              "</div><br><label><b>dtype:</b> int64</label>"
            ]
          },
          "metadata": {},
          "execution_count": 72
        }
      ],
      "source": [
        "links.isnull().sum() #8 nulls\n",
        "# each movie is exactly mentioned one time and some doesnt have tmbid"
      ]
    },
    {
      "cell_type": "code",
      "execution_count": null,
      "metadata": {
        "colab": {
          "base_uri": "https://localhost:8080/"
        },
        "id": "4E9-NJQGeALc",
        "outputId": "cd3b84b9-de28-4058-e309-3e7a7702494a"
      },
      "outputs": [
        {
          "output_type": "stream",
          "name": "stdout",
          "text": [
            "      movieId  imdbId  tmdbId\n",
            "624       791  113610     NaN\n",
            "843      1107  102336     NaN\n",
            "2141     2851   81454     NaN\n",
            "3027     4051   56600     NaN\n",
            "5532    26587   92337     NaN\n",
            "5854    32600  377059     NaN\n",
            "6059    40697  105946     NaN\n",
            "7382    79299  874957     NaN\n"
          ]
        }
      ],
      "source": [
        "# find nulls\n",
        "rows_with_nulls = links[links.isnull().any(axis=1)]\n",
        "print(rows_with_nulls)\n",
        "# 791  , 1107  ,2851   ,4051   ,26587   ,32600  ,40697  ,79299"
      ]
    },
    {
      "cell_type": "code",
      "execution_count": null,
      "metadata": {
        "id": "ZNV0bbvzeALc"
      },
      "outputs": [],
      "source": [
        "# manually add tmdb for each missing movie (8 movies only so either drop or fill we cant fill with mean or mode because it is ID so drop or put right ID)\n",
        "moviecheck = movies[movies['movieId']==791]\n",
        "moviecheck = movies[movies['movieId']==1107]#not found in tmdb i think i will drop it from all pandas(dropped)\n",
        "moviecheck = movies[movies['movieId']==2851]\n",
        "moviecheck = movies[movies['movieId']==4051]\n",
        "moviecheck = movies[movies['movieId']==26587]\n",
        "moviecheck = movies[movies['movieId']==32600]\n",
        "moviecheck = movies[movies['movieId']==40697]\n",
        "moviecheck = movies[movies['movieId']==79299]\n",
        "linkscheck =links[links['movieId']==2851]\n",
        "linkscheck =links[links['movieId']==4051]\n",
        "linkscheck =links[links['movieId']==26587]\n",
        "linkscheck =links[links['movieId']==32600]\n",
        "linkscheck =links[links['movieId']==40697]\n",
        "linkscheck =links[links['movieId']==79299]\n",
        "# links['tmdbId']\n",
        "links.loc[links['movieId'] == 791, 'tmdbId'] = 706007\n",
        "links.loc[links['movieId'] == 2851, 'tmdbId'] = 19761\n",
        "links.loc[links['movieId'] == 4051, 'tmdbId'] = 31392\n",
        "links.loc[links['movieId'] == 26587, 'tmdbId'] = 118667\n",
        "links.loc[links['movieId'] == 32600, 'tmdbId'] = 39850\n",
        "links.loc[links['movieId'] == 40697, 'tmdbId'] = 3137\n",
        "links.loc[links['movieId'] == 79299, 'tmdbId'] = 7154"
      ]
    },
    {
      "cell_type": "code",
      "execution_count": null,
      "metadata": {
        "id": "ZmEiY8LteALd",
        "outputId": "13c62643-f70d-46ac-e6ef-306f1e86689b",
        "colab": {
          "base_uri": "https://localhost:8080/",
          "height": 178
        }
      },
      "outputs": [
        {
          "output_type": "execute_result",
          "data": {
            "text/plain": [
              "movieId    0\n",
              "imdbId     0\n",
              "tmdbId     0\n",
              "dtype: int64"
            ],
            "text/html": [
              "<div>\n",
              "<style scoped>\n",
              "    .dataframe tbody tr th:only-of-type {\n",
              "        vertical-align: middle;\n",
              "    }\n",
              "\n",
              "    .dataframe tbody tr th {\n",
              "        vertical-align: top;\n",
              "    }\n",
              "\n",
              "    .dataframe thead th {\n",
              "        text-align: right;\n",
              "    }\n",
              "</style>\n",
              "<table border=\"1\" class=\"dataframe\">\n",
              "  <thead>\n",
              "    <tr style=\"text-align: right;\">\n",
              "      <th></th>\n",
              "      <th>0</th>\n",
              "    </tr>\n",
              "  </thead>\n",
              "  <tbody>\n",
              "    <tr>\n",
              "      <th>movieId</th>\n",
              "      <td>0</td>\n",
              "    </tr>\n",
              "    <tr>\n",
              "      <th>imdbId</th>\n",
              "      <td>0</td>\n",
              "    </tr>\n",
              "    <tr>\n",
              "      <th>tmdbId</th>\n",
              "      <td>0</td>\n",
              "    </tr>\n",
              "  </tbody>\n",
              "</table>\n",
              "</div><br><label><b>dtype:</b> int64</label>"
            ]
          },
          "metadata": {},
          "execution_count": 75
        }
      ],
      "source": [
        "# can't fill this movie so drop it\n",
        "movies = movies.drop(movies[movies['movieId']==1107].index)\n",
        "ratings =ratings.drop(ratings[ratings['movieId']==1107].index)\n",
        "links = links.drop(links[links['movieId']==1107].index)\n",
        "tags=tags.drop(tags[tags['movieId']==1107].index)\n",
        "\n",
        "links.isnull().sum()"
      ]
    },
    {
      "cell_type": "markdown",
      "source": [
        "## **Explore Data Statistics**"
      ],
      "metadata": {
        "id": "E5RVTz2P4mEU"
      }
    },
    {
      "cell_type": "code",
      "execution_count": null,
      "metadata": {
        "colab": {
          "base_uri": "https://localhost:8080/"
        },
        "id": "S3aRwVkIeALa",
        "outputId": "4dd58d00-cf58-4392-9d68-94cad1032f96"
      },
      "outputs": [
        {
          "output_type": "stream",
          "name": "stdout",
          "text": [
            "              userId        movieId         rating     timestamp\n",
            "count  100834.000000  100834.000000  100834.000000  1.008340e+05\n",
            "mean      326.129490   19435.659252       3.501587  1.205945e+09\n",
            "std       182.619532   35531.245807       1.042497  2.162611e+08\n",
            "min         1.000000       1.000000       0.500000  8.281246e+08\n",
            "25%       177.000000    1199.000000       3.000000  1.019124e+09\n",
            "50%       325.000000    2991.000000       3.500000  1.186087e+09\n",
            "75%       477.000000    8124.000000       4.000000  1.435994e+09\n",
            "max       610.000000  193609.000000       5.000000  1.537799e+09\n",
            "             movieId\n",
            "count    9741.000000\n",
            "mean    42204.572221\n",
            "std     52161.510388\n",
            "min         1.000000\n",
            "25%      3249.000000\n",
            "50%      7301.000000\n",
            "75%     76251.000000\n",
            "max    193609.000000\n",
            "            userId        movieId     timestamp\n",
            "count  3683.000000    3683.000000  3.683000e+03\n",
            "mean    431.149335   27252.013576  1.320032e+09\n",
            "std     158.472553   43490.558803  1.721025e+08\n",
            "min       2.000000       1.000000  1.137179e+09\n",
            "25%     424.000000    1262.500000  1.137521e+09\n",
            "50%     474.000000    4454.000000  1.269833e+09\n",
            "75%     477.000000   39263.000000  1.498457e+09\n",
            "max     610.000000  193565.000000  1.537099e+09\n",
            "             movieId        imdbId         tmdbId\n",
            "count    9741.000000  9.741000e+03    9741.000000\n",
            "mean    42204.572221  6.772429e+05   55217.542449\n",
            "std     52161.510388  1.107269e+06   93857.860252\n",
            "min         1.000000  4.170000e+02       2.000000\n",
            "25%      3249.000000  9.517900e+04    9665.000000\n",
            "50%      7301.000000  1.672610e+05   16538.000000\n",
            "75%     76251.000000  8.055700e+05   44214.000000\n",
            "max    193609.000000  8.391976e+06  706007.000000\n"
          ]
        }
      ],
      "source": [
        "print(ratings.describe())\n",
        "print(movies.describe())\n",
        "print(tags.describe())\n",
        "print(links.describe())"
      ]
    },
    {
      "cell_type": "markdown",
      "metadata": {
        "id": "7pca31LSeALa"
      },
      "source": [
        "### **Insights**\n",
        "\n",
        "- **Ratings Distribution:** The average rating is near 3.5, which shows that most ratings are centered around the middle of the rating scale, suggesting users tend to rate movies somewhat moderately rather than very highly or very low.\n",
        "\n",
        "- **Number of Ratings:** There is a significant number of ratings from users (100,834 ratings), but this might not be uniformly distributed, meaning some movies may be overrepresented while others are not rated as much.\n",
        "\n",
        "- **Movie and Tag Diversity:** The movies dataset has a large range of movie IDs (1 to 193,609), which shows the diversity of movies in the dataset. The tags dataset has fewer interactions compared to ratings, but the users tagging movies are not the same as those rating movies."
      ]
    },
    {
      "cell_type": "markdown",
      "source": [
        "## **Movies' Title & Genre Processing**"
      ],
      "metadata": {
        "id": "B_kZ-Pe75zT0"
      }
    },
    {
      "cell_type": "code",
      "execution_count": null,
      "metadata": {
        "colab": {
          "base_uri": "https://localhost:8080/",
          "height": 423
        },
        "id": "p0TZciyceALd",
        "outputId": "731927c4-16c6-46a3-bfde-3781bbd61d9c"
      },
      "outputs": [
        {
          "output_type": "execute_result",
          "data": {
            "text/plain": [
              "      movieId                              title  \\\n",
              "0           1                          toy story   \n",
              "1           2                            jumanji   \n",
              "2           3                   grumpier old men   \n",
              "3           4                  waiting to exhale   \n",
              "4           5        father of the bride part ii   \n",
              "...       ...                                ...   \n",
              "9737   193581  black butler book of the atlantic   \n",
              "9738   193583               no game no life zero   \n",
              "9739   193585                              flint   \n",
              "9740   193587        bungo stray dogs dead apple   \n",
              "9741   193609        andrew dice clay dice rules   \n",
              "\n",
              "                                                 genres  \n",
              "0     [Adventure, Animation, Children, Comedy, Fantasy]  \n",
              "1                        [Adventure, Children, Fantasy]  \n",
              "2                                     [Comedy, Romance]  \n",
              "3                              [Comedy, Drama, Romance]  \n",
              "4                                              [Comedy]  \n",
              "...                                                 ...  \n",
              "9737               [Action, Animation, Comedy, Fantasy]  \n",
              "9738                       [Animation, Comedy, Fantasy]  \n",
              "9739                                            [Drama]  \n",
              "9740                                [Action, Animation]  \n",
              "9741                                           [Comedy]  \n",
              "\n",
              "[9741 rows x 3 columns]"
            ],
            "text/html": [
              "\n",
              "  <div id=\"df-8d200bcf-91cb-4269-973b-ccd49b3f995a\" class=\"colab-df-container\">\n",
              "    <div>\n",
              "<style scoped>\n",
              "    .dataframe tbody tr th:only-of-type {\n",
              "        vertical-align: middle;\n",
              "    }\n",
              "\n",
              "    .dataframe tbody tr th {\n",
              "        vertical-align: top;\n",
              "    }\n",
              "\n",
              "    .dataframe thead th {\n",
              "        text-align: right;\n",
              "    }\n",
              "</style>\n",
              "<table border=\"1\" class=\"dataframe\">\n",
              "  <thead>\n",
              "    <tr style=\"text-align: right;\">\n",
              "      <th></th>\n",
              "      <th>movieId</th>\n",
              "      <th>title</th>\n",
              "      <th>genres</th>\n",
              "    </tr>\n",
              "  </thead>\n",
              "  <tbody>\n",
              "    <tr>\n",
              "      <th>0</th>\n",
              "      <td>1</td>\n",
              "      <td>toy story</td>\n",
              "      <td>[Adventure, Animation, Children, Comedy, Fantasy]</td>\n",
              "    </tr>\n",
              "    <tr>\n",
              "      <th>1</th>\n",
              "      <td>2</td>\n",
              "      <td>jumanji</td>\n",
              "      <td>[Adventure, Children, Fantasy]</td>\n",
              "    </tr>\n",
              "    <tr>\n",
              "      <th>2</th>\n",
              "      <td>3</td>\n",
              "      <td>grumpier old men</td>\n",
              "      <td>[Comedy, Romance]</td>\n",
              "    </tr>\n",
              "    <tr>\n",
              "      <th>3</th>\n",
              "      <td>4</td>\n",
              "      <td>waiting to exhale</td>\n",
              "      <td>[Comedy, Drama, Romance]</td>\n",
              "    </tr>\n",
              "    <tr>\n",
              "      <th>4</th>\n",
              "      <td>5</td>\n",
              "      <td>father of the bride part ii</td>\n",
              "      <td>[Comedy]</td>\n",
              "    </tr>\n",
              "    <tr>\n",
              "      <th>...</th>\n",
              "      <td>...</td>\n",
              "      <td>...</td>\n",
              "      <td>...</td>\n",
              "    </tr>\n",
              "    <tr>\n",
              "      <th>9737</th>\n",
              "      <td>193581</td>\n",
              "      <td>black butler book of the atlantic</td>\n",
              "      <td>[Action, Animation, Comedy, Fantasy]</td>\n",
              "    </tr>\n",
              "    <tr>\n",
              "      <th>9738</th>\n",
              "      <td>193583</td>\n",
              "      <td>no game no life zero</td>\n",
              "      <td>[Animation, Comedy, Fantasy]</td>\n",
              "    </tr>\n",
              "    <tr>\n",
              "      <th>9739</th>\n",
              "      <td>193585</td>\n",
              "      <td>flint</td>\n",
              "      <td>[Drama]</td>\n",
              "    </tr>\n",
              "    <tr>\n",
              "      <th>9740</th>\n",
              "      <td>193587</td>\n",
              "      <td>bungo stray dogs dead apple</td>\n",
              "      <td>[Action, Animation]</td>\n",
              "    </tr>\n",
              "    <tr>\n",
              "      <th>9741</th>\n",
              "      <td>193609</td>\n",
              "      <td>andrew dice clay dice rules</td>\n",
              "      <td>[Comedy]</td>\n",
              "    </tr>\n",
              "  </tbody>\n",
              "</table>\n",
              "<p>9741 rows × 3 columns</p>\n",
              "</div>\n",
              "    <div class=\"colab-df-buttons\">\n",
              "\n",
              "  <div class=\"colab-df-container\">\n",
              "    <button class=\"colab-df-convert\" onclick=\"convertToInteractive('df-8d200bcf-91cb-4269-973b-ccd49b3f995a')\"\n",
              "            title=\"Convert this dataframe to an interactive table.\"\n",
              "            style=\"display:none;\">\n",
              "\n",
              "  <svg xmlns=\"http://www.w3.org/2000/svg\" height=\"24px\" viewBox=\"0 -960 960 960\">\n",
              "    <path d=\"M120-120v-720h720v720H120Zm60-500h600v-160H180v160Zm220 220h160v-160H400v160Zm0 220h160v-160H400v160ZM180-400h160v-160H180v160Zm440 0h160v-160H620v160ZM180-180h160v-160H180v160Zm440 0h160v-160H620v160Z\"/>\n",
              "  </svg>\n",
              "    </button>\n",
              "\n",
              "  <style>\n",
              "    .colab-df-container {\n",
              "      display:flex;\n",
              "      gap: 12px;\n",
              "    }\n",
              "\n",
              "    .colab-df-convert {\n",
              "      background-color: #E8F0FE;\n",
              "      border: none;\n",
              "      border-radius: 50%;\n",
              "      cursor: pointer;\n",
              "      display: none;\n",
              "      fill: #1967D2;\n",
              "      height: 32px;\n",
              "      padding: 0 0 0 0;\n",
              "      width: 32px;\n",
              "    }\n",
              "\n",
              "    .colab-df-convert:hover {\n",
              "      background-color: #E2EBFA;\n",
              "      box-shadow: 0px 1px 2px rgba(60, 64, 67, 0.3), 0px 1px 3px 1px rgba(60, 64, 67, 0.15);\n",
              "      fill: #174EA6;\n",
              "    }\n",
              "\n",
              "    .colab-df-buttons div {\n",
              "      margin-bottom: 4px;\n",
              "    }\n",
              "\n",
              "    [theme=dark] .colab-df-convert {\n",
              "      background-color: #3B4455;\n",
              "      fill: #D2E3FC;\n",
              "    }\n",
              "\n",
              "    [theme=dark] .colab-df-convert:hover {\n",
              "      background-color: #434B5C;\n",
              "      box-shadow: 0px 1px 3px 1px rgba(0, 0, 0, 0.15);\n",
              "      filter: drop-shadow(0px 1px 2px rgba(0, 0, 0, 0.3));\n",
              "      fill: #FFFFFF;\n",
              "    }\n",
              "  </style>\n",
              "\n",
              "    <script>\n",
              "      const buttonEl =\n",
              "        document.querySelector('#df-8d200bcf-91cb-4269-973b-ccd49b3f995a button.colab-df-convert');\n",
              "      buttonEl.style.display =\n",
              "        google.colab.kernel.accessAllowed ? 'block' : 'none';\n",
              "\n",
              "      async function convertToInteractive(key) {\n",
              "        const element = document.querySelector('#df-8d200bcf-91cb-4269-973b-ccd49b3f995a');\n",
              "        const dataTable =\n",
              "          await google.colab.kernel.invokeFunction('convertToInteractive',\n",
              "                                                    [key], {});\n",
              "        if (!dataTable) return;\n",
              "\n",
              "        const docLinkHtml = 'Like what you see? Visit the ' +\n",
              "          '<a target=\"_blank\" href=https://colab.research.google.com/notebooks/data_table.ipynb>data table notebook</a>'\n",
              "          + ' to learn more about interactive tables.';\n",
              "        element.innerHTML = '';\n",
              "        dataTable['output_type'] = 'display_data';\n",
              "        await google.colab.output.renderOutput(dataTable, element);\n",
              "        const docLink = document.createElement('div');\n",
              "        docLink.innerHTML = docLinkHtml;\n",
              "        element.appendChild(docLink);\n",
              "      }\n",
              "    </script>\n",
              "  </div>\n",
              "\n",
              "\n",
              "<div id=\"df-db0b1fb2-8045-435a-aadd-4172de5c840d\">\n",
              "  <button class=\"colab-df-quickchart\" onclick=\"quickchart('df-db0b1fb2-8045-435a-aadd-4172de5c840d')\"\n",
              "            title=\"Suggest charts\"\n",
              "            style=\"display:none;\">\n",
              "\n",
              "<svg xmlns=\"http://www.w3.org/2000/svg\" height=\"24px\"viewBox=\"0 0 24 24\"\n",
              "     width=\"24px\">\n",
              "    <g>\n",
              "        <path d=\"M19 3H5c-1.1 0-2 .9-2 2v14c0 1.1.9 2 2 2h14c1.1 0 2-.9 2-2V5c0-1.1-.9-2-2-2zM9 17H7v-7h2v7zm4 0h-2V7h2v10zm4 0h-2v-4h2v4z\"/>\n",
              "    </g>\n",
              "</svg>\n",
              "  </button>\n",
              "\n",
              "<style>\n",
              "  .colab-df-quickchart {\n",
              "      --bg-color: #E8F0FE;\n",
              "      --fill-color: #1967D2;\n",
              "      --hover-bg-color: #E2EBFA;\n",
              "      --hover-fill-color: #174EA6;\n",
              "      --disabled-fill-color: #AAA;\n",
              "      --disabled-bg-color: #DDD;\n",
              "  }\n",
              "\n",
              "  [theme=dark] .colab-df-quickchart {\n",
              "      --bg-color: #3B4455;\n",
              "      --fill-color: #D2E3FC;\n",
              "      --hover-bg-color: #434B5C;\n",
              "      --hover-fill-color: #FFFFFF;\n",
              "      --disabled-bg-color: #3B4455;\n",
              "      --disabled-fill-color: #666;\n",
              "  }\n",
              "\n",
              "  .colab-df-quickchart {\n",
              "    background-color: var(--bg-color);\n",
              "    border: none;\n",
              "    border-radius: 50%;\n",
              "    cursor: pointer;\n",
              "    display: none;\n",
              "    fill: var(--fill-color);\n",
              "    height: 32px;\n",
              "    padding: 0;\n",
              "    width: 32px;\n",
              "  }\n",
              "\n",
              "  .colab-df-quickchart:hover {\n",
              "    background-color: var(--hover-bg-color);\n",
              "    box-shadow: 0 1px 2px rgba(60, 64, 67, 0.3), 0 1px 3px 1px rgba(60, 64, 67, 0.15);\n",
              "    fill: var(--button-hover-fill-color);\n",
              "  }\n",
              "\n",
              "  .colab-df-quickchart-complete:disabled,\n",
              "  .colab-df-quickchart-complete:disabled:hover {\n",
              "    background-color: var(--disabled-bg-color);\n",
              "    fill: var(--disabled-fill-color);\n",
              "    box-shadow: none;\n",
              "  }\n",
              "\n",
              "  .colab-df-spinner {\n",
              "    border: 2px solid var(--fill-color);\n",
              "    border-color: transparent;\n",
              "    border-bottom-color: var(--fill-color);\n",
              "    animation:\n",
              "      spin 1s steps(1) infinite;\n",
              "  }\n",
              "\n",
              "  @keyframes spin {\n",
              "    0% {\n",
              "      border-color: transparent;\n",
              "      border-bottom-color: var(--fill-color);\n",
              "      border-left-color: var(--fill-color);\n",
              "    }\n",
              "    20% {\n",
              "      border-color: transparent;\n",
              "      border-left-color: var(--fill-color);\n",
              "      border-top-color: var(--fill-color);\n",
              "    }\n",
              "    30% {\n",
              "      border-color: transparent;\n",
              "      border-left-color: var(--fill-color);\n",
              "      border-top-color: var(--fill-color);\n",
              "      border-right-color: var(--fill-color);\n",
              "    }\n",
              "    40% {\n",
              "      border-color: transparent;\n",
              "      border-right-color: var(--fill-color);\n",
              "      border-top-color: var(--fill-color);\n",
              "    }\n",
              "    60% {\n",
              "      border-color: transparent;\n",
              "      border-right-color: var(--fill-color);\n",
              "    }\n",
              "    80% {\n",
              "      border-color: transparent;\n",
              "      border-right-color: var(--fill-color);\n",
              "      border-bottom-color: var(--fill-color);\n",
              "    }\n",
              "    90% {\n",
              "      border-color: transparent;\n",
              "      border-bottom-color: var(--fill-color);\n",
              "    }\n",
              "  }\n",
              "</style>\n",
              "\n",
              "  <script>\n",
              "    async function quickchart(key) {\n",
              "      const quickchartButtonEl =\n",
              "        document.querySelector('#' + key + ' button');\n",
              "      quickchartButtonEl.disabled = true;  // To prevent multiple clicks.\n",
              "      quickchartButtonEl.classList.add('colab-df-spinner');\n",
              "      try {\n",
              "        const charts = await google.colab.kernel.invokeFunction(\n",
              "            'suggestCharts', [key], {});\n",
              "      } catch (error) {\n",
              "        console.error('Error during call to suggestCharts:', error);\n",
              "      }\n",
              "      quickchartButtonEl.classList.remove('colab-df-spinner');\n",
              "      quickchartButtonEl.classList.add('colab-df-quickchart-complete');\n",
              "    }\n",
              "    (() => {\n",
              "      let quickchartButtonEl =\n",
              "        document.querySelector('#df-db0b1fb2-8045-435a-aadd-4172de5c840d button');\n",
              "      quickchartButtonEl.style.display =\n",
              "        google.colab.kernel.accessAllowed ? 'block' : 'none';\n",
              "    })();\n",
              "  </script>\n",
              "</div>\n",
              "\n",
              "  <div id=\"id_839ecbf7-b780-44de-b9f2-0a4ff268480c\">\n",
              "    <style>\n",
              "      .colab-df-generate {\n",
              "        background-color: #E8F0FE;\n",
              "        border: none;\n",
              "        border-radius: 50%;\n",
              "        cursor: pointer;\n",
              "        display: none;\n",
              "        fill: #1967D2;\n",
              "        height: 32px;\n",
              "        padding: 0 0 0 0;\n",
              "        width: 32px;\n",
              "      }\n",
              "\n",
              "      .colab-df-generate:hover {\n",
              "        background-color: #E2EBFA;\n",
              "        box-shadow: 0px 1px 2px rgba(60, 64, 67, 0.3), 0px 1px 3px 1px rgba(60, 64, 67, 0.15);\n",
              "        fill: #174EA6;\n",
              "      }\n",
              "\n",
              "      [theme=dark] .colab-df-generate {\n",
              "        background-color: #3B4455;\n",
              "        fill: #D2E3FC;\n",
              "      }\n",
              "\n",
              "      [theme=dark] .colab-df-generate:hover {\n",
              "        background-color: #434B5C;\n",
              "        box-shadow: 0px 1px 3px 1px rgba(0, 0, 0, 0.15);\n",
              "        filter: drop-shadow(0px 1px 2px rgba(0, 0, 0, 0.3));\n",
              "        fill: #FFFFFF;\n",
              "      }\n",
              "    </style>\n",
              "    <button class=\"colab-df-generate\" onclick=\"generateWithVariable('movies')\"\n",
              "            title=\"Generate code using this dataframe.\"\n",
              "            style=\"display:none;\">\n",
              "\n",
              "  <svg xmlns=\"http://www.w3.org/2000/svg\" height=\"24px\"viewBox=\"0 0 24 24\"\n",
              "       width=\"24px\">\n",
              "    <path d=\"M7,19H8.4L18.45,9,17,7.55,7,17.6ZM5,21V16.75L18.45,3.32a2,2,0,0,1,2.83,0l1.4,1.43a1.91,1.91,0,0,1,.58,1.4,1.91,1.91,0,0,1-.58,1.4L9.25,21ZM18.45,9,17,7.55Zm-12,3A5.31,5.31,0,0,0,4.9,8.1,5.31,5.31,0,0,0,1,6.5,5.31,5.31,0,0,0,4.9,4.9,5.31,5.31,0,0,0,6.5,1,5.31,5.31,0,0,0,8.1,4.9,5.31,5.31,0,0,0,12,6.5,5.46,5.46,0,0,0,6.5,12Z\"/>\n",
              "  </svg>\n",
              "    </button>\n",
              "    <script>\n",
              "      (() => {\n",
              "      const buttonEl =\n",
              "        document.querySelector('#id_839ecbf7-b780-44de-b9f2-0a4ff268480c button.colab-df-generate');\n",
              "      buttonEl.style.display =\n",
              "        google.colab.kernel.accessAllowed ? 'block' : 'none';\n",
              "\n",
              "      buttonEl.onclick = () => {\n",
              "        google.colab.notebook.generateWithVariable('movies');\n",
              "      }\n",
              "      })();\n",
              "    </script>\n",
              "  </div>\n",
              "\n",
              "    </div>\n",
              "  </div>\n"
            ],
            "application/vnd.google.colaboratory.intrinsic+json": {
              "type": "dataframe",
              "variable_name": "movies",
              "summary": "{\n  \"name\": \"movies\",\n  \"rows\": 9741,\n  \"fields\": [\n    {\n      \"column\": \"movieId\",\n      \"properties\": {\n        \"dtype\": \"number\",\n        \"std\": 52161,\n        \"min\": 1,\n        \"max\": 193609,\n        \"num_unique_values\": 9741,\n        \"samples\": [\n          4483,\n          5053,\n          84847\n        ],\n        \"semantic_type\": \"\",\n        \"description\": \"\"\n      }\n    },\n    {\n      \"column\": \"title\",\n      \"properties\": {\n        \"dtype\": \"string\",\n        \"num_unique_values\": 9411,\n        \"samples\": [\n          \"moonlight\",\n          \"mean girls\",\n          \"very long engagement, a\"\n        ],\n        \"semantic_type\": \"\",\n        \"description\": \"\"\n      }\n    },\n    {\n      \"column\": \"genres\",\n      \"properties\": {\n        \"dtype\": \"object\",\n        \"semantic_type\": \"\",\n        \"description\": \"\"\n      }\n    }\n  ]\n}"
            }
          },
          "metadata": {},
          "execution_count": 77
        }
      ],
      "source": [
        "# movies\n",
        "movies['genres'] = movies['genres'].str.split('|') #split genres\n",
        "# removed most common special characters from title\n",
        "movies['title'] = movies['title'].str.strip().str.lower()\n",
        "movies['title'] = movies['title'].astype(str).str.replace(r'\\(.*?\\)', '', regex=True).str.replace(r':', '').str.replace(r';', '').str.replace(r'|', '').str.strip()\n",
        "movies['title'].head()\n",
        "movies"
      ]
    },
    {
      "cell_type": "markdown",
      "source": [
        "## **Datatype Fixing**"
      ],
      "metadata": {
        "id": "VtL9i1sf6O20"
      }
    },
    {
      "cell_type": "code",
      "execution_count": null,
      "metadata": {
        "id": "HPcr97PreALd"
      },
      "outputs": [],
      "source": [
        "# timestamp is datetime\n",
        "ratings['timestamp'] = pd.to_datetime(ratings['timestamp'], unit='s')\n",
        "# remove outliers\n",
        "ratings = ratings[ratings['rating'] >= 0.5]\n",
        "ratings = ratings[ratings['rating'] <= 5.0]\n",
        "ratings.drop_duplicates(inplace=True)"
      ]
    },
    {
      "cell_type": "code",
      "execution_count": null,
      "metadata": {
        "id": "VMbxei_CeALd"
      },
      "outputs": [],
      "source": [
        "# tags\n",
        "tags['timestamp'] = pd.to_datetime(tags['timestamp'], unit='s')"
      ]
    },
    {
      "cell_type": "code",
      "execution_count": null,
      "metadata": {
        "id": "KGsLnzEGeALd"
      },
      "outputs": [],
      "source": [
        "# links\n",
        "links = links[links['movieId'].isin(movies['movieId'])]#makes sure that links are in movies not only dummy link"
      ]
    },
    {
      "cell_type": "markdown",
      "source": [
        "## **Merge Necessary Datasets**"
      ],
      "metadata": {
        "id": "3bNM4jX96iit"
      }
    },
    {
      "cell_type": "code",
      "execution_count": null,
      "metadata": {
        "id": "-3D80JzyeALe"
      },
      "outputs": [],
      "source": [
        "# merging for better use\n",
        "merged_movies_rating = pd.merge(ratings, movies, on='movieId')\n",
        "\n",
        "genres_expanded = movies.explode('genres')\n",
        "# Merge the genres with the ratings data\n",
        "merged_genre_ratings = pd.merge(ratings, genres_expanded[['movieId', 'genres']], on='movieId')"
      ]
    },
    {
      "cell_type": "markdown",
      "metadata": {
        "id": "hsu0y4BLeALe"
      },
      "source": [
        "# **EDA & Data Visualization**"
      ]
    },
    {
      "cell_type": "markdown",
      "source": [
        "## **Ratings Distribution**"
      ],
      "metadata": {
        "id": "Qfl_1GV467Sz"
      }
    },
    {
      "cell_type": "code",
      "execution_count": null,
      "metadata": {
        "colab": {
          "base_uri": "https://localhost:8080/",
          "height": 564
        },
        "id": "2m5_Nc26eALe",
        "outputId": "7ea966e5-1a9d-48bb-ad67-80a6c7c5cd64"
      },
      "outputs": [
        {
          "output_type": "display_data",
          "data": {
            "text/plain": [
              "<Figure size 1000x600 with 1 Axes>"
            ],
            "image/png": "[encoded data removed]"
          },
          "metadata": {}
        }
      ],
      "source": [
        "# Plot distribution of ratings\n",
        "plt.figure(figsize=(10, 6))\n",
        "sns.histplot(ratings['rating'], bins=10, kde=True)\n",
        "plt.title('Distribution of Ratings')\n",
        "plt.xlabel('Rating')\n",
        "plt.ylabel('Frequency')\n",
        "plt.show()"
      ]
    },
    {
      "cell_type": "markdown",
      "metadata": {
        "id": "ZGBNBb0beALe"
      },
      "source": [
        "**Insights**\n",
        "\n",
        "people tend to rate **4 stars** more that might mean they like the movie but it's not their favorite also they rate 3 by huge amount maybe it means that the movie is neither good nor bad.\n"
      ]
    },
    {
      "cell_type": "markdown",
      "source": [
        "## **Top 10 Movies by Ratings**"
      ],
      "metadata": {
        "id": "Xxi3sNyv7QLf"
      }
    },
    {
      "cell_type": "code",
      "execution_count": null,
      "metadata": {
        "colab": {
          "base_uri": "https://localhost:8080/",
          "height": 784
        },
        "id": "JWAW_p93eALe",
        "outputId": "75d3245d-5e2a-4296-c88c-9cfa9d123cdb"
      },
      "outputs": [
        {
          "output_type": "display_data",
          "data": {
            "text/plain": [
              "<Figure size 1200x600 with 1 Axes>"
            ],
            "image/png": "[encoded data removed]"
          },
          "metadata": {}
        }
      ],
      "source": [
        "# Count of ratings for each movie\n",
        "movie_ratings_count = merged_movies_rating.groupby('title')['rating'].count()\n",
        "movie_ratings_count = movie_ratings_count.sort_values(ascending=False)\n",
        "\n",
        "# Top 10 movies with the most ratings\n",
        "top_rated_movies = movie_ratings_count.head(10)\n",
        "\n",
        "# Plot the top 10 movies by title\n",
        "plt.figure(figsize=(12, 6))\n",
        "sns.barplot(x=top_rated_movies.index, y=top_rated_movies.values, palette='viridis')\n",
        "plt.title('Top 10 Movies with the Most Ratings')\n",
        "plt.xlabel('Movie Title')\n",
        "plt.ylabel('Number of Ratings')\n",
        "plt.xticks(rotation=90)\n",
        "plt.show()"
      ]
    },
    {
      "cell_type": "markdown",
      "source": [
        "## **Average Rating for Top 10 Movies**"
      ],
      "metadata": {
        "id": "iqwh1T8L7fac"
      }
    },
    {
      "cell_type": "code",
      "execution_count": null,
      "metadata": {
        "colab": {
          "base_uri": "https://localhost:8080/",
          "height": 1000
        },
        "id": "75hErqp3eALe",
        "outputId": "e0e6adf7-2529-42c4-809c-99538c71f150"
      },
      "outputs": [
        {
          "output_type": "display_data",
          "data": {
            "text/plain": [
              "<Figure size 1200x600 with 1 Axes>"
            ],
            "image/png": "[encoded data removed]"
          },
          "metadata": {}
        }
      ],
      "source": [
        "# Calculate average rating by movie\n",
        "average_ratings = merged_movies_rating.groupby('title')['rating'].mean()\n",
        "average_ratings = average_ratings.sort_values(ascending=False)\n",
        "\n",
        "# Top 10 highest rated movies\n",
        "top_avg_rated_movies = average_ratings.head(10)\n",
        "\n",
        "# Plot the top 10 highest rated movies by title\n",
        "plt.figure(figsize=(12, 6))\n",
        "sns.barplot(x=top_avg_rated_movies.index, y=top_avg_rated_movies.values, palette='magma')\n",
        "plt.title('Top 10 Highest Rated Movies')\n",
        "plt.xlabel('Movie Title')\n",
        "plt.ylabel('Average Rating')\n",
        "plt.xticks(rotation=90)\n",
        "plt.show()"
      ]
    },
    {
      "cell_type": "markdown",
      "metadata": {
        "id": "nw3ClTwBeALe"
      },
      "source": [
        "**Insights**\n",
        "\n",
        "there are **more drama movies** than musical or war maybe the cost of drama movies production is less than musical or war :)"
      ]
    },
    {
      "cell_type": "markdown",
      "source": [
        "## **Genre Distibution**"
      ],
      "metadata": {
        "id": "AAlm4CLG7y6C"
      }
    },
    {
      "cell_type": "code",
      "execution_count": null,
      "metadata": {
        "colab": {
          "base_uri": "https://localhost:8080/",
          "height": 672
        },
        "id": "kCY0_CeseALf",
        "outputId": "b0a4d4c4-1526-4484-8bd3-4c1d711742a2"
      },
      "outputs": [
        {
          "output_type": "display_data",
          "data": {
            "text/plain": [
              "<Figure size 1200x600 with 1 Axes>"
            ],
            "image/png": "[encoded data removed]"
          },
          "metadata": {}
        }
      ],
      "source": [
        "# Split genres into individual genres\n",
        "genre_list = [genre for sublist in movies['genres'] for genre in sublist]\n",
        "genre_count = pd.Series(genre_list).value_counts()\n",
        "\n",
        "# Plot genre distribution\n",
        "plt.figure(figsize=(12, 6))\n",
        "sns.barplot(x=genre_count.index, y=genre_count.values)\n",
        "plt.title('Distribution of Movie Genres')\n",
        "plt.xlabel('Genre')\n",
        "plt.ylabel('Frequency')\n",
        "plt.xticks(rotation=90)\n",
        "plt.show()"
      ]
    },
    {
      "cell_type": "markdown",
      "metadata": {
        "id": "C1XF3v-beALf"
      },
      "source": [
        "**Insights**\n",
        "\n",
        "- users tends to rate drama more.\n",
        "- chlidren genre are less rated."
      ]
    },
    {
      "cell_type": "markdown",
      "source": [
        "## **Top 10 Genres by Number of Ratings**"
      ],
      "metadata": {
        "id": "Pkx5Sq5-8GtD"
      }
    },
    {
      "cell_type": "code",
      "execution_count": null,
      "metadata": {
        "colab": {
          "base_uri": "https://localhost:8080/",
          "height": 611
        },
        "id": "QOR0ypqJeALf",
        "outputId": "2ba9c0fc-34c3-4215-ce24-08fc08c44639"
      },
      "outputs": [
        {
          "output_type": "display_data",
          "data": {
            "text/plain": [
              "<Figure size 1200x600 with 1 Axes>"
            ],
            "image/png": "[encoded data removed]"
          },
          "metadata": {}
        }
      ],
      "source": [
        "genre_ratings_count = merged_genre_ratings.groupby('genres')['rating'].count()\n",
        "genre_ratings_count = genre_ratings_count.sort_values(ascending=False)\n",
        "\n",
        "# Top 10 genres by number of ratings\n",
        "top_genre_ratings_count = genre_ratings_count.head(10)\n",
        "\n",
        "# Plot the number of ratings per genre\n",
        "plt.figure(figsize=(12, 6))\n",
        "sns.barplot(x=top_genre_ratings_count.index, y=top_genre_ratings_count.values, palette='inferno')\n",
        "plt.title('Top Genres by Number of Ratings')\n",
        "plt.xlabel('Genre')\n",
        "plt.ylabel('Number of Ratings')\n",
        "plt.xticks(rotation=45)\n",
        "plt.show()"
      ]
    },
    {
      "cell_type": "markdown",
      "metadata": {
        "id": "WrzV76BYeALg"
      },
      "source": [
        "**Insights**\n",
        "\n",
        "the avg rating per genre are close but people tend to rate horror movies less , also comedy maybe it wasn't funny to them. those feelings are relative so avg rating are less.\n"
      ]
    },
    {
      "cell_type": "markdown",
      "source": [
        "## **Top Genres by Average Rating**"
      ],
      "metadata": {
        "id": "oiYQPqaJ8qvZ"
      }
    },
    {
      "cell_type": "code",
      "execution_count": null,
      "metadata": {
        "colab": {
          "base_uri": "https://localhost:8080/",
          "height": 646
        },
        "id": "FuiGTHVteALg",
        "outputId": "4a66d1fe-4598-4044-97f4-d9c21fd9be23"
      },
      "outputs": [
        {
          "output_type": "display_data",
          "data": {
            "text/plain": [
              "<Figure size 1200x600 with 1 Axes>"
            ],
            "image/png": "[encoded data removed]"
          },
          "metadata": {}
        }
      ],
      "source": [
        "genre_avg_rating = merged_genre_ratings.groupby('genres')['rating'].mean()\n",
        "\n",
        "# Sort genres by average rating\n",
        "genre_avg_rating = genre_avg_rating.sort_values(ascending=False)\n",
        "\n",
        "# Top genres by average rating\n",
        "top_genre_avg_rating = genre_avg_rating.head(20)\n",
        "\n",
        "# Plot the average rating per genre\n",
        "plt.figure(figsize=(12, 6))\n",
        "sns.barplot(x=top_genre_avg_rating.index, y=top_genre_avg_rating.values, palette='viridis')\n",
        "plt.title('Top Genres by Average Rating')\n",
        "plt.xlabel('Genre')\n",
        "plt.ylabel('Average Rating')\n",
        "plt.xticks(rotation=45)\n",
        "plt.show()"
      ]
    },
    {
      "cell_type": "markdown",
      "source": [
        "## **Top 10 Users by Number of Ratings**"
      ],
      "metadata": {
        "id": "Q7B5WJla9dKK"
      }
    },
    {
      "cell_type": "code",
      "execution_count": null,
      "metadata": {
        "colab": {
          "base_uri": "https://localhost:8080/"
        },
        "id": "kbTmUswreALg",
        "outputId": "1c11ab3c-e569-4c24-de0e-e3130998ecba"
      },
      "outputs": [
        {
          "output_type": "stream",
          "name": "stdout",
          "text": [
            "userId\n",
            "414    2698\n",
            "599    2478\n",
            "474    2108\n",
            "448    1864\n",
            "274    1346\n",
            "610    1302\n",
            "68     1260\n",
            "380    1218\n",
            "606    1115\n",
            "288    1055\n",
            "249    1046\n",
            "387    1027\n",
            "182     977\n",
            "307     975\n",
            "603     943\n",
            "298     938\n",
            "177     904\n",
            "318     879\n",
            "232     862\n",
            "480     836\n",
            "Name: rating, dtype: int64\n"
          ]
        }
      ],
      "source": [
        "# Count of ratings by user\n",
        "user_ratings_count = ratings.groupby('userId')['rating'].count()\n",
        "user_ratings_count = user_ratings_count.sort_values(ascending=False)\n",
        "\n",
        "# Top 10 users with the most ratings\n",
        "top_rated_users = user_ratings_count.head(20)\n",
        "print(top_rated_users)"
      ]
    },
    {
      "cell_type": "code",
      "execution_count": null,
      "metadata": {
        "colab": {
          "base_uri": "https://localhost:8080/",
          "height": 579
        },
        "id": "sfQ_WGFAeALg",
        "outputId": "8b79ec59-2a45-4de9-c464-6bfe4cf12e71"
      },
      "outputs": [
        {
          "output_type": "display_data",
          "data": {
            "text/plain": [
              "<Figure size 1200x600 with 1 Axes>"
            ],
            "image/png": "[encoded data removed]"
          },
          "metadata": {}
        }
      ],
      "source": [
        "plt.figure(figsize=(12, 6))\n",
        "sns.barplot(x=top_rated_users.index, y=top_rated_users.values, palette='viridis')\n",
        "plt.title('users vs number of rating')\n",
        "plt.xlabel('users')\n",
        "plt.ylabel('number of Rating')\n",
        "plt.xticks(rotation=45)\n",
        "plt.show()"
      ]
    },
    {
      "cell_type": "markdown",
      "metadata": {
        "id": "RrqyzhQpeALg"
      },
      "source": [
        "**Insights**\n",
        "\n",
        "users who tends to rate usually rates / watches more movies."
      ]
    },
    {
      "cell_type": "markdown",
      "metadata": {
        "id": "bX1II0mAeALg"
      },
      "source": [
        "## **Popular Tags**"
      ]
    },
    {
      "cell_type": "code",
      "execution_count": null,
      "metadata": {
        "colab": {
          "base_uri": "https://localhost:8080/"
        },
        "id": "gx4DEj8keALh",
        "outputId": "88f184c8-f4a5-4c6b-caff-b44ba7dd8181"
      },
      "outputs": [
        {
          "output_type": "stream",
          "name": "stdout",
          "text": [
            "tag\n",
            "In Netflix queue      131\n",
            "atmospheric            36\n",
            "thought-provoking      24\n",
            "superhero              24\n",
            "funny                  23\n",
            "surreal                23\n",
            "Disney                 23\n",
            "religion               22\n",
            "sci-fi                 21\n",
            "quirky                 21\n",
            "dark comedy            21\n",
            "psychology             21\n",
            "suspense               20\n",
            "twist ending           19\n",
            "visually appealing     19\n",
            "crime                  19\n",
            "politics               18\n",
            "mental illness         16\n",
            "music                  16\n",
            "time travel            16\n",
            "Name: count, dtype: int64\n"
          ]
        }
      ],
      "source": [
        "# Count the occurrences of each tag\n",
        "tag_count = tags['tag'].value_counts()\n",
        "\n",
        "# Top 10 most popular tags\n",
        "print(tag_count.head(20))"
      ]
    },
    {
      "cell_type": "markdown",
      "metadata": {
        "id": "CPdgA4yVeALh"
      },
      "source": [
        "**Insights**\n",
        "\n",
        "- **Popular Themes**: Tags like \"In Netflix queue\", \"atmospheric\", and \"thought-provoking\" are applied relatively frequently, indicating that these themes resonate strongly with the users. These themes are likely indicative of movies or shows that are trending or have drawn the attention of users.\n",
        "\n",
        "\n",
        "- **Engagement vs. Popularity**: Tags like \"In Netflix queue\" (with 131 occurrences) could reflect how users queue up or bookmark movies they plan to watch in the future, showing a proactive interest in content, not just past viewing behavior."
      ]
    },
    {
      "cell_type": "markdown",
      "metadata": {
        "id": "gGfW_u9Hip5L"
      },
      "source": [
        "# **Collaborative Filtering**"
      ]
    },
    {
      "cell_type": "markdown",
      "source": [
        "## **1) User-Based**"
      ],
      "metadata": {
        "id": "QmPBOsK6ATu_"
      }
    },
    {
      "cell_type": "code",
      "execution_count": null,
      "metadata": {
        "id": "iN7GjmWLinhr"
      },
      "outputs": [],
      "source": [
        "# Create a user-movie rating matrix\n",
        "merged_movies_rating = merged_movies_rating.drop_duplicates(['userId', 'title'])\n",
        "user_movie_matrix = merged_movies_rating.pivot(index='userId', columns='movieId', values='rating').fillna(0)"
      ]
    },
    {
      "cell_type": "code",
      "execution_count": null,
      "metadata": {
        "colab": {
          "base_uri": "https://localhost:8080/",
          "height": 287
        },
        "id": "7xK_P9rqmc6F",
        "outputId": "d188b50c-b50c-4ef7-b20d-c47d05a2dcb7"
      },
      "outputs": [
        {
          "output_type": "execute_result",
          "data": {
            "text/plain": [
              "userId       1         2         3         4         5         6         7    \\\n",
              "userId                                                                         \n",
              "1       1.000000  0.027418  0.060016  0.188687  0.129720  0.128787  0.159575   \n",
              "2       0.027418  1.000000  0.000000  0.003726  0.016614  0.025333  0.027593   \n",
              "3       0.060016  0.000000  1.000000  0.002251  0.005020  0.003936  0.000000   \n",
              "4       0.188687  0.003726  0.002251  1.000000  0.128659  0.088491  0.115151   \n",
              "5       0.129720  0.016614  0.005020  0.128659  1.000000  0.300349  0.108371   \n",
              "\n",
              "userId       8         9         10   ...       601       602       603  \\\n",
              "userId                                ...                                 \n",
              "1       0.137647  0.064582  0.016959  ...  0.080953  0.165270  0.220856   \n",
              "2       0.027257  0.000000  0.067445  ...  0.202671  0.016866  0.012017   \n",
              "3       0.004941  0.000000  0.000000  ...  0.005048  0.004892  0.025033   \n",
              "4       0.062969  0.011361  0.031163  ...  0.085938  0.128273  0.308489   \n",
              "5       0.429075  0.000000  0.030611  ...  0.068048  0.418747  0.110332   \n",
              "\n",
              "userId       604       605       606       607       608       609       610  \n",
              "userId                                                                        \n",
              "1       0.071019  0.155068  0.165895  0.270725  0.294087  0.094036  0.145000  \n",
              "2       0.000000  0.000000  0.028582  0.012948  0.046455  0.027565  0.102614  \n",
              "3       0.000000  0.010741  0.013063  0.019247  0.021240  0.000000  0.032177  \n",
              "4       0.052985  0.084957  0.201475  0.131746  0.150650  0.032198  0.107880  \n",
              "5       0.258773  0.149414  0.107009  0.152866  0.136252  0.261232  0.060903  \n",
              "\n",
              "[5 rows x 610 columns]"
            ],
            "text/html": [
              "\n",
              "  <div id=\"df-00b3ca4d-00e1-4649-902c-7ea47b44733a\" class=\"colab-df-container\">\n",
              "    <div>\n",
              "<style scoped>\n",
              "    .dataframe tbody tr th:only-of-type {\n",
              "        vertical-align: middle;\n",
              "    }\n",
              "\n",
              "    .dataframe tbody tr th {\n",
              "        vertical-align: top;\n",
              "    }\n",
              "\n",
              "    .dataframe thead th {\n",
              "        text-align: right;\n",
              "    }\n",
              "</style>\n",
              "<table border=\"1\" class=\"dataframe\">\n",
              "  <thead>\n",
              "    <tr style=\"text-align: right;\">\n",
              "      <th>userId</th>\n",
              "      <th>1</th>\n",
              "      <th>2</th>\n",
              "      <th>3</th>\n",
              "      <th>4</th>\n",
              "      <th>5</th>\n",
              "      <th>6</th>\n",
              "      <th>7</th>\n",
              "      <th>8</th>\n",
              "      <th>9</th>\n",
              "      <th>10</th>\n",
              "      <th>...</th>\n",
              "      <th>601</th>\n",
              "      <th>602</th>\n",
              "      <th>603</th>\n",
              "      <th>604</th>\n",
              "      <th>605</th>\n",
              "      <th>606</th>\n",
              "      <th>607</th>\n",
              "      <th>608</th>\n",
              "      <th>609</th>\n",
              "      <th>610</th>\n",
              "    </tr>\n",
              "    <tr>\n",
              "      <th>userId</th>\n",
              "      <th></th>\n",
              "      <th></th>\n",
              "      <th></th>\n",
              "      <th></th>\n",
              "      <th></th>\n",
              "      <th></th>\n",
              "      <th></th>\n",
              "      <th></th>\n",
              "      <th></th>\n",
              "      <th></th>\n",
              "      <th></th>\n",
              "      <th></th>\n",
              "      <th></th>\n",
              "      <th></th>\n",
              "      <th></th>\n",
              "      <th></th>\n",
              "      <th></th>\n",
              "      <th></th>\n",
              "      <th></th>\n",
              "      <th></th>\n",
              "      <th></th>\n",
              "    </tr>\n",
              "  </thead>\n",
              "  <tbody>\n",
              "    <tr>\n",
              "      <th>1</th>\n",
              "      <td>1.000000</td>\n",
              "      <td>0.027418</td>\n",
              "      <td>0.060016</td>\n",
              "      <td>0.188687</td>\n",
              "      <td>0.129720</td>\n",
              "      <td>0.128787</td>\n",
              "      <td>0.159575</td>\n",
              "      <td>0.137647</td>\n",
              "      <td>0.064582</td>\n",
              "      <td>0.016959</td>\n",
              "      <td>...</td>\n",
              "      <td>0.080953</td>\n",
              "      <td>0.165270</td>\n",
              "      <td>0.220856</td>\n",
              "      <td>0.071019</td>\n",
              "      <td>0.155068</td>\n",
              "      <td>0.165895</td>\n",
              "      <td>0.270725</td>\n",
              "      <td>0.294087</td>\n",
              "      <td>0.094036</td>\n",
              "      <td>0.145000</td>\n",
              "    </tr>\n",
              "    <tr>\n",
              "      <th>2</th>\n",
              "      <td>0.027418</td>\n",
              "      <td>1.000000</td>\n",
              "      <td>0.000000</td>\n",
              "      <td>0.003726</td>\n",
              "      <td>0.016614</td>\n",
              "      <td>0.025333</td>\n",
              "      <td>0.027593</td>\n",
              "      <td>0.027257</td>\n",
              "      <td>0.000000</td>\n",
              "      <td>0.067445</td>\n",
              "      <td>...</td>\n",
              "      <td>0.202671</td>\n",
              "      <td>0.016866</td>\n",
              "      <td>0.012017</td>\n",
              "      <td>0.000000</td>\n",
              "      <td>0.000000</td>\n",
              "      <td>0.028582</td>\n",
              "      <td>0.012948</td>\n",
              "      <td>0.046455</td>\n",
              "      <td>0.027565</td>\n",
              "      <td>0.102614</td>\n",
              "    </tr>\n",
              "    <tr>\n",
              "      <th>3</th>\n",
              "      <td>0.060016</td>\n",
              "      <td>0.000000</td>\n",
              "      <td>1.000000</td>\n",
              "      <td>0.002251</td>\n",
              "      <td>0.005020</td>\n",
              "      <td>0.003936</td>\n",
              "      <td>0.000000</td>\n",
              "      <td>0.004941</td>\n",
              "      <td>0.000000</td>\n",
              "      <td>0.000000</td>\n",
              "      <td>...</td>\n",
              "      <td>0.005048</td>\n",
              "      <td>0.004892</td>\n",
              "      <td>0.025033</td>\n",
              "      <td>0.000000</td>\n",
              "      <td>0.010741</td>\n",
              "      <td>0.013063</td>\n",
              "      <td>0.019247</td>\n",
              "      <td>0.021240</td>\n",
              "      <td>0.000000</td>\n",
              "      <td>0.032177</td>\n",
              "    </tr>\n",
              "    <tr>\n",
              "      <th>4</th>\n",
              "      <td>0.188687</td>\n",
              "      <td>0.003726</td>\n",
              "      <td>0.002251</td>\n",
              "      <td>1.000000</td>\n",
              "      <td>0.128659</td>\n",
              "      <td>0.088491</td>\n",
              "      <td>0.115151</td>\n",
              "      <td>0.062969</td>\n",
              "      <td>0.011361</td>\n",
              "      <td>0.031163</td>\n",
              "      <td>...</td>\n",
              "      <td>0.085938</td>\n",
              "      <td>0.128273</td>\n",
              "      <td>0.308489</td>\n",
              "      <td>0.052985</td>\n",
              "      <td>0.084957</td>\n",
              "      <td>0.201475</td>\n",
              "      <td>0.131746</td>\n",
              "      <td>0.150650</td>\n",
              "      <td>0.032198</td>\n",
              "      <td>0.107880</td>\n",
              "    </tr>\n",
              "    <tr>\n",
              "      <th>5</th>\n",
              "      <td>0.129720</td>\n",
              "      <td>0.016614</td>\n",
              "      <td>0.005020</td>\n",
              "      <td>0.128659</td>\n",
              "      <td>1.000000</td>\n",
              "      <td>0.300349</td>\n",
              "      <td>0.108371</td>\n",
              "      <td>0.429075</td>\n",
              "      <td>0.000000</td>\n",
              "      <td>0.030611</td>\n",
              "      <td>...</td>\n",
              "      <td>0.068048</td>\n",
              "      <td>0.418747</td>\n",
              "      <td>0.110332</td>\n",
              "      <td>0.258773</td>\n",
              "      <td>0.149414</td>\n",
              "      <td>0.107009</td>\n",
              "      <td>0.152866</td>\n",
              "      <td>0.136252</td>\n",
              "      <td>0.261232</td>\n",
              "      <td>0.060903</td>\n",
              "    </tr>\n",
              "  </tbody>\n",
              "</table>\n",
              "<p>5 rows × 610 columns</p>\n",
              "</div>\n",
              "    <div class=\"colab-df-buttons\">\n",
              "\n",
              "  <div class=\"colab-df-container\">\n",
              "    <button class=\"colab-df-convert\" onclick=\"convertToInteractive('df-00b3ca4d-00e1-4649-902c-7ea47b44733a')\"\n",
              "            title=\"Convert this dataframe to an interactive table.\"\n",
              "            style=\"display:none;\">\n",
              "\n",
              "  <svg xmlns=\"http://www.w3.org/2000/svg\" height=\"24px\" viewBox=\"0 -960 960 960\">\n",
              "    <path d=\"M120-120v-720h720v720H120Zm60-500h600v-160H180v160Zm220 220h160v-160H400v160Zm0 220h160v-160H400v160ZM180-400h160v-160H180v160Zm440 0h160v-160H620v160ZM180-180h160v-160H180v160Zm440 0h160v-160H620v160Z\"/>\n",
              "  </svg>\n",
              "    </button>\n",
              "\n",
              "  <style>\n",
              "    .colab-df-container {\n",
              "      display:flex;\n",
              "      gap: 12px;\n",
              "    }\n",
              "\n",
              "    .colab-df-convert {\n",
              "      background-color: #E8F0FE;\n",
              "      border: none;\n",
              "      border-radius: 50%;\n",
              "      cursor: pointer;\n",
              "      display: none;\n",
              "      fill: #1967D2;\n",
              "      height: 32px;\n",
              "      padding: 0 0 0 0;\n",
              "      width: 32px;\n",
              "    }\n",
              "\n",
              "    .colab-df-convert:hover {\n",
              "      background-color: #E2EBFA;\n",
              "      box-shadow: 0px 1px 2px rgba(60, 64, 67, 0.3), 0px 1px 3px 1px rgba(60, 64, 67, 0.15);\n",
              "      fill: #174EA6;\n",
              "    }\n",
              "\n",
              "    .colab-df-buttons div {\n",
              "      margin-bottom: 4px;\n",
              "    }\n",
              "\n",
              "    [theme=dark] .colab-df-convert {\n",
              "      background-color: #3B4455;\n",
              "      fill: #D2E3FC;\n",
              "    }\n",
              "\n",
              "    [theme=dark] .colab-df-convert:hover {\n",
              "      background-color: #434B5C;\n",
              "      box-shadow: 0px 1px 3px 1px rgba(0, 0, 0, 0.15);\n",
              "      filter: drop-shadow(0px 1px 2px rgba(0, 0, 0, 0.3));\n",
              "      fill: #FFFFFF;\n",
              "    }\n",
              "  </style>\n",
              "\n",
              "    <script>\n",
              "      const buttonEl =\n",
              "        document.querySelector('#df-00b3ca4d-00e1-4649-902c-7ea47b44733a button.colab-df-convert');\n",
              "      buttonEl.style.display =\n",
              "        google.colab.kernel.accessAllowed ? 'block' : 'none';\n",
              "\n",
              "      async function convertToInteractive(key) {\n",
              "        const element = document.querySelector('#df-00b3ca4d-00e1-4649-902c-7ea47b44733a');\n",
              "        const dataTable =\n",
              "          await google.colab.kernel.invokeFunction('convertToInteractive',\n",
              "                                                    [key], {});\n",
              "        if (!dataTable) return;\n",
              "\n",
              "        const docLinkHtml = 'Like what you see? Visit the ' +\n",
              "          '<a target=\"_blank\" href=https://colab.research.google.com/notebooks/data_table.ipynb>data table notebook</a>'\n",
              "          + ' to learn more about interactive tables.';\n",
              "        element.innerHTML = '';\n",
              "        dataTable['output_type'] = 'display_data';\n",
              "        await google.colab.output.renderOutput(dataTable, element);\n",
              "        const docLink = document.createElement('div');\n",
              "        docLink.innerHTML = docLinkHtml;\n",
              "        element.appendChild(docLink);\n",
              "      }\n",
              "    </script>\n",
              "  </div>\n",
              "\n",
              "\n",
              "<div id=\"df-13e8003a-6897-4d6f-bb07-f03dfe4d91b0\">\n",
              "  <button class=\"colab-df-quickchart\" onclick=\"quickchart('df-13e8003a-6897-4d6f-bb07-f03dfe4d91b0')\"\n",
              "            title=\"Suggest charts\"\n",
              "            style=\"display:none;\">\n",
              "\n",
              "<svg xmlns=\"http://www.w3.org/2000/svg\" height=\"24px\"viewBox=\"0 0 24 24\"\n",
              "     width=\"24px\">\n",
              "    <g>\n",
              "        <path d=\"M19 3H5c-1.1 0-2 .9-2 2v14c0 1.1.9 2 2 2h14c1.1 0 2-.9 2-2V5c0-1.1-.9-2-2-2zM9 17H7v-7h2v7zm4 0h-2V7h2v10zm4 0h-2v-4h2v4z\"/>\n",
              "    </g>\n",
              "</svg>\n",
              "  </button>\n",
              "\n",
              "<style>\n",
              "  .colab-df-quickchart {\n",
              "      --bg-color: #E8F0FE;\n",
              "      --fill-color: #1967D2;\n",
              "      --hover-bg-color: #E2EBFA;\n",
              "      --hover-fill-color: #174EA6;\n",
              "      --disabled-fill-color: #AAA;\n",
              "      --disabled-bg-color: #DDD;\n",
              "  }\n",
              "\n",
              "  [theme=dark] .colab-df-quickchart {\n",
              "      --bg-color: #3B4455;\n",
              "      --fill-color: #D2E3FC;\n",
              "      --hover-bg-color: #434B5C;\n",
              "      --hover-fill-color: #FFFFFF;\n",
              "      --disabled-bg-color: #3B4455;\n",
              "      --disabled-fill-color: #666;\n",
              "  }\n",
              "\n",
              "  .colab-df-quickchart {\n",
              "    background-color: var(--bg-color);\n",
              "    border: none;\n",
              "    border-radius: 50%;\n",
              "    cursor: pointer;\n",
              "    display: none;\n",
              "    fill: var(--fill-color);\n",
              "    height: 32px;\n",
              "    padding: 0;\n",
              "    width: 32px;\n",
              "  }\n",
              "\n",
              "  .colab-df-quickchart:hover {\n",
              "    background-color: var(--hover-bg-color);\n",
              "    box-shadow: 0 1px 2px rgba(60, 64, 67, 0.3), 0 1px 3px 1px rgba(60, 64, 67, 0.15);\n",
              "    fill: var(--button-hover-fill-color);\n",
              "  }\n",
              "\n",
              "  .colab-df-quickchart-complete:disabled,\n",
              "  .colab-df-quickchart-complete:disabled:hover {\n",
              "    background-color: var(--disabled-bg-color);\n",
              "    fill: var(--disabled-fill-color);\n",
              "    box-shadow: none;\n",
              "  }\n",
              "\n",
              "  .colab-df-spinner {\n",
              "    border: 2px solid var(--fill-color);\n",
              "    border-color: transparent;\n",
              "    border-bottom-color: var(--fill-color);\n",
              "    animation:\n",
              "      spin 1s steps(1) infinite;\n",
              "  }\n",
              "\n",
              "  @keyframes spin {\n",
              "    0% {\n",
              "      border-color: transparent;\n",
              "      border-bottom-color: var(--fill-color);\n",
              "      border-left-color: var(--fill-color);\n",
              "    }\n",
              "    20% {\n",
              "      border-color: transparent;\n",
              "      border-left-color: var(--fill-color);\n",
              "      border-top-color: var(--fill-color);\n",
              "    }\n",
              "    30% {\n",
              "      border-color: transparent;\n",
              "      border-left-color: var(--fill-color);\n",
              "      border-top-color: var(--fill-color);\n",
              "      border-right-color: var(--fill-color);\n",
              "    }\n",
              "    40% {\n",
              "      border-color: transparent;\n",
              "      border-right-color: var(--fill-color);\n",
              "      border-top-color: var(--fill-color);\n",
              "    }\n",
              "    60% {\n",
              "      border-color: transparent;\n",
              "      border-right-color: var(--fill-color);\n",
              "    }\n",
              "    80% {\n",
              "      border-color: transparent;\n",
              "      border-right-color: var(--fill-color);\n",
              "      border-bottom-color: var(--fill-color);\n",
              "    }\n",
              "    90% {\n",
              "      border-color: transparent;\n",
              "      border-bottom-color: var(--fill-color);\n",
              "    }\n",
              "  }\n",
              "</style>\n",
              "\n",
              "  <script>\n",
              "    async function quickchart(key) {\n",
              "      const quickchartButtonEl =\n",
              "        document.querySelector('#' + key + ' button');\n",
              "      quickchartButtonEl.disabled = true;  // To prevent multiple clicks.\n",
              "      quickchartButtonEl.classList.add('colab-df-spinner');\n",
              "      try {\n",
              "        const charts = await google.colab.kernel.invokeFunction(\n",
              "            'suggestCharts', [key], {});\n",
              "      } catch (error) {\n",
              "        console.error('Error during call to suggestCharts:', error);\n",
              "      }\n",
              "      quickchartButtonEl.classList.remove('colab-df-spinner');\n",
              "      quickchartButtonEl.classList.add('colab-df-quickchart-complete');\n",
              "    }\n",
              "    (() => {\n",
              "      let quickchartButtonEl =\n",
              "        document.querySelector('#df-13e8003a-6897-4d6f-bb07-f03dfe4d91b0 button');\n",
              "      quickchartButtonEl.style.display =\n",
              "        google.colab.kernel.accessAllowed ? 'block' : 'none';\n",
              "    })();\n",
              "  </script>\n",
              "</div>\n",
              "\n",
              "    </div>\n",
              "  </div>\n"
            ],
            "application/vnd.google.colaboratory.intrinsic+json": {
              "type": "dataframe",
              "variable_name": "user_similarity_df"
            }
          },
          "metadata": {},
          "execution_count": 92
        }
      ],
      "source": [
        "# Compute cosine similarity between users\n",
        "user_similarity = cosine_similarity(user_movie_matrix)\n",
        "user_similarity_df = pd.DataFrame(user_similarity, index=user_movie_matrix.index, columns=user_movie_matrix.index)\n",
        "user_similarity_df.head()"
      ]
    },
    {
      "cell_type": "code",
      "execution_count": null,
      "metadata": {
        "id": "fd-LyZHnmf0u"
      },
      "outputs": [],
      "source": [
        "# Extract movie Titles\n",
        "movie_titles = merged_movies_rating.drop_duplicates(subset=['movieId']).set_index('movieId')['title'].to_dict()"
      ]
    },
    {
      "cell_type": "code",
      "execution_count": null,
      "metadata": {
        "id": "CDcSAWNvmiid"
      },
      "outputs": [],
      "source": [
        "def get_recommendations(user_id, user_similarity_df, user_movie_matrix, movie_titles, top_n=5):\n",
        "\n",
        "    # Get the similarity scores for the user\n",
        "    sim_scores = user_similarity_df[user_id]\n",
        "    # Sort users based on similarity scores\n",
        "    sim_scores = sim_scores.sort_values(ascending=False)\n",
        "    # Get top N most similar users\n",
        "    top_users = sim_scores.iloc[1:top_n+1].index\n",
        "\n",
        "    # Get movies rated by the top similar users\n",
        "    recommended_movies = user_movie_matrix.loc[top_users].mean(axis=0)\n",
        "    # Sort the movies by average rating\n",
        "    recommended_movies = recommended_movies.sort_values(ascending=False)\n",
        "\n",
        "    # Exclude movies already rated by the user\n",
        "    user_rated_movies = user_movie_matrix.loc[user_id]\n",
        "    recommended_movies = recommended_movies[user_rated_movies == 0]\n",
        "\n",
        "    # Get the top recommended movies\n",
        "    recommended_movie_ids = recommended_movies.index.tolist()\n",
        "    # Map movie IDs to movie titles\n",
        "    recommended_movie_titles = [movie_titles.get(movie_id, f\"Unknown Movie (ID: {movie_id})\") for movie_id in recommended_movie_ids]\n",
        "\n",
        "    return recommended_movie_titles"
      ]
    },
    {
      "cell_type": "code",
      "source": [
        "# Example: Get recommendations for user 1\n",
        "user_id = 1\n",
        "recommendations = get_recommendations(user_id, user_similarity_df, user_movie_matrix, movie_titles)\n",
        "print(f\"Top 5 Recommended movies for user {user_id}:\")\n",
        "recommendations[:5]"
      ],
      "metadata": {
        "id": "8fOK-7_tAguM",
        "outputId": "72dff05a-cce3-4874-f32d-a3ada44e8851",
        "colab": {
          "base_uri": "https://localhost:8080/"
        }
      },
      "execution_count": null,
      "outputs": [
        {
          "output_type": "stream",
          "name": "stdout",
          "text": [
            "Top 5 Recommended movies for user 1:\n"
          ]
        },
        {
          "output_type": "execute_result",
          "data": {
            "text/plain": [
              "['aliens',\n",
              " 'hunt for red october, the',\n",
              " 'blade runner',\n",
              " 'godfather, the',\n",
              " 'terminator 2 judgment day']"
            ]
          },
          "metadata": {},
          "execution_count": 95
        }
      ]
    },
    {
      "cell_type": "code",
      "source": [
        "# Example: Get recommendations for user 5\n",
        "user_id = 5\n",
        "recommendations = get_recommendations(user_id, user_similarity_df, user_movie_matrix, movie_titles)\n",
        "print(f\"Top 5 Recommended movies for user {user_id}:\")\n",
        "recommendations[:5]"
      ],
      "metadata": {
        "id": "qG3GZiDUAhdu",
        "outputId": "e60f9cf3-5ba8-430d-84e2-8e3a90d3bcf6",
        "colab": {
          "base_uri": "https://localhost:8080/"
        }
      },
      "execution_count": null,
      "outputs": [
        {
          "output_type": "stream",
          "name": "stdout",
          "text": [
            "Top 5 Recommended movies for user 5:\n"
          ]
        },
        {
          "output_type": "execute_result",
          "data": {
            "text/plain": [
              "['forrest gump',\n",
              " 'speed',\n",
              " 'sleepless in seattle',\n",
              " 'jurassic park',\n",
              " 'silence of the lambs, the']"
            ]
          },
          "metadata": {},
          "execution_count": 96
        }
      ]
    },
    {
      "cell_type": "markdown",
      "metadata": {
        "id": "yE2zwgckeALh"
      },
      "source": [
        "## **Item-Based**"
      ]
    },
    {
      "cell_type": "code",
      "execution_count": null,
      "metadata": {
        "id": "M-ve5ctAeALh"
      },
      "outputs": [],
      "source": [
        "# Create a pivot table with users as rows and movies as columns\n",
        "user_item_matrix = ratings.pivot_table(index='userId', columns='movieId', values='rating').fillna(0)\n",
        "\n",
        "# Calculate cosine similarity between items\n",
        "item_similarity = cosine_similarity(user_item_matrix.T)\n",
        "item_similarity_df = pd.DataFrame(item_similarity, index=user_item_matrix.columns, columns=user_item_matrix.columns)"
      ]
    },
    {
      "cell_type": "code",
      "execution_count": null,
      "metadata": {
        "id": "HOBjpeOIeALh"
      },
      "outputs": [],
      "source": [
        "# Function to recommend movies based on item similarity\n",
        "def recommend_item_based(user_id, user_item_matrix, item_similarity_df, top_n=5):\n",
        "    user_ratings = user_item_matrix.loc[user_id]\n",
        "    user_rated_items = user_ratings[user_ratings > 0].index\n",
        "\n",
        "    # Compute scores for all items\n",
        "    scores = item_similarity_df[user_rated_items].dot(user_ratings[user_rated_items])\n",
        "    scores = scores[~scores.index.isin(user_rated_items)]  # Exclude already rated items\n",
        "\n",
        "    return scores"
      ]
    },
    {
      "cell_type": "code",
      "execution_count": null,
      "metadata": {
        "colab": {
          "base_uri": "https://localhost:8080/"
        },
        "id": "UYEUuFEHeALi",
        "outputId": "3d13e37e-b948-4528-8034-8ede86292ec4",
        "scrolled": true
      },
      "outputs": [
        {
          "output_type": "stream",
          "name": "stdout",
          "text": [
            "Collaborative Filtering Recommendations:\n"
          ]
        },
        {
          "output_type": "execute_result",
          "data": {
            "text/plain": [
              "['jumanji',\n",
              " 'waiting to exhale',\n",
              " 'father of the bride part ii',\n",
              " 'sabrina',\n",
              " 'tom and huck']"
            ]
          },
          "metadata": {},
          "execution_count": 99
        }
      ],
      "source": [
        "# Example: Recommend movies for user 1\n",
        "user_id = 1\n",
        "print(\"Collaborative Filtering Recommendations:\")\n",
        "recommendations_id = recommend_item_based(user_id, user_item_matrix, item_similarity_df)\n",
        "# Get the top recommended movies\n",
        "recommended_movie_ids = recommendations_id.index.tolist()\n",
        "# Map movie IDs to movie titles\n",
        "recommended_movie_titles = [movie_titles.get(movie_id, f\"Unknown Movie (ID: {movie_id})\") for movie_id in recommended_movie_ids]\n",
        "recommended_movie_titles[:5]"
      ]
    },
    {
      "cell_type": "code",
      "source": [
        "# Example: Recommend movies for user 5\n",
        "user_id = 5\n",
        "print(\"Collaborative Filtering Recommendations:\")\n",
        "recommendations_id = recommend_item_based(user_id, user_item_matrix, item_similarity_df)\n",
        "# Get the top recommended movies\n",
        "recommended_movie_ids = recommendations_id.index.tolist()\n",
        "# Map movie IDs to movie titles\n",
        "recommended_movie_titles = [movie_titles.get(movie_id, f\"Unknown Movie (ID: {movie_id})\") for movie_id in recommended_movie_ids]\n",
        "recommended_movie_titles[:5]"
      ],
      "metadata": {
        "id": "jEUbAR78BiOl",
        "outputId": "17b4972f-4a92-414f-98e9-c8b7fc0b1d7a",
        "colab": {
          "base_uri": "https://localhost:8080/"
        }
      },
      "execution_count": null,
      "outputs": [
        {
          "output_type": "stream",
          "name": "stdout",
          "text": [
            "Collaborative Filtering Recommendations:\n"
          ]
        },
        {
          "output_type": "execute_result",
          "data": {
            "text/plain": [
              "['jumanji',\n",
              " 'grumpier old men',\n",
              " 'waiting to exhale',\n",
              " 'father of the bride part ii',\n",
              " 'heat']"
            ]
          },
          "metadata": {},
          "execution_count": 100
        }
      ]
    },
    {
      "cell_type": "markdown",
      "metadata": {
        "id": "ncDwz7V_eALi"
      },
      "source": [
        "# **Content-Based Filtering**"
      ]
    },
    {
      "cell_type": "markdown",
      "metadata": {
        "id": "tzfO0fvmsiyp"
      },
      "source": [
        "**Group Tags by Movie**\n"
      ]
    },
    {
      "cell_type": "code",
      "execution_count": null,
      "metadata": {
        "id": "RR0ZrYoZsbKk"
      },
      "outputs": [],
      "source": [
        "# We combine tags for each movie into a single string. It groups all tags related to the same movie and joins them together.\n",
        "# Then, the tags are merged with the movie information, and any missing tags are replaced with an empty string.\n",
        "\n",
        "# Group tags by movieId and concatenate\n",
        "tags_grouped = tags.groupby('movieId')['tag'].apply(lambda x: ' '.join(x)).reset_index()\n",
        "\n",
        "# Merge grouped tags with movies data\n",
        "movies_with_tags = movies.merge(tags_grouped, on='movieId', how='left')\n",
        "# Fill missing tags with an empty string\n",
        "movies_with_tags['tag'] = movies_with_tags['tag'].fillna('')"
      ]
    },
    {
      "cell_type": "markdown",
      "metadata": {
        "id": "gKN697KjsoL-"
      },
      "source": [
        "**Combine Genres and Tags**"
      ]
    },
    {
      "cell_type": "code",
      "execution_count": null,
      "metadata": {
        "colab": {
          "base_uri": "https://localhost:8080/",
          "height": 510
        },
        "id": "ykbGEyHpsl_H",
        "outputId": "d4a9f831-19f3-498a-af0d-e1fb1a2ca35b"
      },
      "outputs": [
        {
          "output_type": "execute_result",
          "data": {
            "text/plain": [
              "      movieId                              title  \\\n",
              "0           1                          toy story   \n",
              "1           2                            jumanji   \n",
              "2           3                   grumpier old men   \n",
              "3           4                  waiting to exhale   \n",
              "4           5        father of the bride part ii   \n",
              "...       ...                                ...   \n",
              "9736   193581  black butler book of the atlantic   \n",
              "9737   193583               no game no life zero   \n",
              "9738   193585                              flint   \n",
              "9739   193587        bungo stray dogs dead apple   \n",
              "9740   193609        andrew dice clay dice rules   \n",
              "\n",
              "                                                 genres  \\\n",
              "0     [Adventure, Animation, Children, Comedy, Fantasy]   \n",
              "1                        [Adventure, Children, Fantasy]   \n",
              "2                                     [Comedy, Romance]   \n",
              "3                              [Comedy, Drama, Romance]   \n",
              "4                                              [Comedy]   \n",
              "...                                                 ...   \n",
              "9736               [Action, Animation, Comedy, Fantasy]   \n",
              "9737                       [Animation, Comedy, Fantasy]   \n",
              "9738                                            [Drama]   \n",
              "9739                                [Action, Animation]   \n",
              "9740                                           [Comedy]   \n",
              "\n",
              "                                               tag  \\\n",
              "0                                  pixar pixar fun   \n",
              "1     fantasy magic board game Robin Williams game   \n",
              "2                                        moldy old   \n",
              "3                                                    \n",
              "4                                 pregnancy remake   \n",
              "...                                            ...   \n",
              "9736                                                 \n",
              "9737                                                 \n",
              "9738                                                 \n",
              "9739                                                 \n",
              "9740                                                 \n",
              "\n",
              "                                               features  \n",
              "0     ['Adventure', 'Animation', 'Children', 'Comedy...  \n",
              "1     ['Adventure', 'Children', 'Fantasy'] fantasy m...  \n",
              "2                       ['Comedy', 'Romance'] moldy old  \n",
              "3                       ['Comedy', 'Drama', 'Romance']   \n",
              "4                           ['Comedy'] pregnancy remake  \n",
              "...                                                 ...  \n",
              "9736      ['Action', 'Animation', 'Comedy', 'Fantasy']   \n",
              "9737                ['Animation', 'Comedy', 'Fantasy']   \n",
              "9738                                         ['Drama']   \n",
              "9739                           ['Action', 'Animation']   \n",
              "9740                                        ['Comedy']   \n",
              "\n",
              "[9741 rows x 5 columns]"
            ],
            "text/html": [
              "\n",
              "  <div id=\"df-a8f4a4e0-579f-4694-89c9-7bea41aa9f83\" class=\"colab-df-container\">\n",
              "    <div>\n",
              "<style scoped>\n",
              "    .dataframe tbody tr th:only-of-type {\n",
              "        vertical-align: middle;\n",
              "    }\n",
              "\n",
              "    .dataframe tbody tr th {\n",
              "        vertical-align: top;\n",
              "    }\n",
              "\n",
              "    .dataframe thead th {\n",
              "        text-align: right;\n",
              "    }\n",
              "</style>\n",
              "<table border=\"1\" class=\"dataframe\">\n",
              "  <thead>\n",
              "    <tr style=\"text-align: right;\">\n",
              "      <th></th>\n",
              "      <th>movieId</th>\n",
              "      <th>title</th>\n",
              "      <th>genres</th>\n",
              "      <th>tag</th>\n",
              "      <th>features</th>\n",
              "    </tr>\n",
              "  </thead>\n",
              "  <tbody>\n",
              "    <tr>\n",
              "      <th>0</th>\n",
              "      <td>1</td>\n",
              "      <td>toy story</td>\n",
              "      <td>[Adventure, Animation, Children, Comedy, Fantasy]</td>\n",
              "      <td>pixar pixar fun</td>\n",
              "      <td>['Adventure', 'Animation', 'Children', 'Comedy...</td>\n",
              "    </tr>\n",
              "    <tr>\n",
              "      <th>1</th>\n",
              "      <td>2</td>\n",
              "      <td>jumanji</td>\n",
              "      <td>[Adventure, Children, Fantasy]</td>\n",
              "      <td>fantasy magic board game Robin Williams game</td>\n",
              "      <td>['Adventure', 'Children', 'Fantasy'] fantasy m...</td>\n",
              "    </tr>\n",
              "    <tr>\n",
              "      <th>2</th>\n",
              "      <td>3</td>\n",
              "      <td>grumpier old men</td>\n",
              "      <td>[Comedy, Romance]</td>\n",
              "      <td>moldy old</td>\n",
              "      <td>['Comedy', 'Romance'] moldy old</td>\n",
              "    </tr>\n",
              "    <tr>\n",
              "      <th>3</th>\n",
              "      <td>4</td>\n",
              "      <td>waiting to exhale</td>\n",
              "      <td>[Comedy, Drama, Romance]</td>\n",
              "      <td></td>\n",
              "      <td>['Comedy', 'Drama', 'Romance']</td>\n",
              "    </tr>\n",
              "    <tr>\n",
              "      <th>4</th>\n",
              "      <td>5</td>\n",
              "      <td>father of the bride part ii</td>\n",
              "      <td>[Comedy]</td>\n",
              "      <td>pregnancy remake</td>\n",
              "      <td>['Comedy'] pregnancy remake</td>\n",
              "    </tr>\n",
              "    <tr>\n",
              "      <th>...</th>\n",
              "      <td>...</td>\n",
              "      <td>...</td>\n",
              "      <td>...</td>\n",
              "      <td>...</td>\n",
              "      <td>...</td>\n",
              "    </tr>\n",
              "    <tr>\n",
              "      <th>9736</th>\n",
              "      <td>193581</td>\n",
              "      <td>black butler book of the atlantic</td>\n",
              "      <td>[Action, Animation, Comedy, Fantasy]</td>\n",
              "      <td></td>\n",
              "      <td>['Action', 'Animation', 'Comedy', 'Fantasy']</td>\n",
              "    </tr>\n",
              "    <tr>\n",
              "      <th>9737</th>\n",
              "      <td>193583</td>\n",
              "      <td>no game no life zero</td>\n",
              "      <td>[Animation, Comedy, Fantasy]</td>\n",
              "      <td></td>\n",
              "      <td>['Animation', 'Comedy', 'Fantasy']</td>\n",
              "    </tr>\n",
              "    <tr>\n",
              "      <th>9738</th>\n",
              "      <td>193585</td>\n",
              "      <td>flint</td>\n",
              "      <td>[Drama]</td>\n",
              "      <td></td>\n",
              "      <td>['Drama']</td>\n",
              "    </tr>\n",
              "    <tr>\n",
              "      <th>9739</th>\n",
              "      <td>193587</td>\n",
              "      <td>bungo stray dogs dead apple</td>\n",
              "      <td>[Action, Animation]</td>\n",
              "      <td></td>\n",
              "      <td>['Action', 'Animation']</td>\n",
              "    </tr>\n",
              "    <tr>\n",
              "      <th>9740</th>\n",
              "      <td>193609</td>\n",
              "      <td>andrew dice clay dice rules</td>\n",
              "      <td>[Comedy]</td>\n",
              "      <td></td>\n",
              "      <td>['Comedy']</td>\n",
              "    </tr>\n",
              "  </tbody>\n",
              "</table>\n",
              "<p>9741 rows × 5 columns</p>\n",
              "</div>\n",
              "    <div class=\"colab-df-buttons\">\n",
              "\n",
              "  <div class=\"colab-df-container\">\n",
              "    <button class=\"colab-df-convert\" onclick=\"convertToInteractive('df-a8f4a4e0-579f-4694-89c9-7bea41aa9f83')\"\n",
              "            title=\"Convert this dataframe to an interactive table.\"\n",
              "            style=\"display:none;\">\n",
              "\n",
              "  <svg xmlns=\"http://www.w3.org/2000/svg\" height=\"24px\" viewBox=\"0 -960 960 960\">\n",
              "    <path d=\"M120-120v-720h720v720H120Zm60-500h600v-160H180v160Zm220 220h160v-160H400v160Zm0 220h160v-160H400v160ZM180-400h160v-160H180v160Zm440 0h160v-160H620v160ZM180-180h160v-160H180v160Zm440 0h160v-160H620v160Z\"/>\n",
              "  </svg>\n",
              "    </button>\n",
              "\n",
              "  <style>\n",
              "    .colab-df-container {\n",
              "      display:flex;\n",
              "      gap: 12px;\n",
              "    }\n",
              "\n",
              "    .colab-df-convert {\n",
              "      background-color: #E8F0FE;\n",
              "      border: none;\n",
              "      border-radius: 50%;\n",
              "      cursor: pointer;\n",
              "      display: none;\n",
              "      fill: #1967D2;\n",
              "      height: 32px;\n",
              "      padding: 0 0 0 0;\n",
              "      width: 32px;\n",
              "    }\n",
              "\n",
              "    .colab-df-convert:hover {\n",
              "      background-color: #E2EBFA;\n",
              "      box-shadow: 0px 1px 2px rgba(60, 64, 67, 0.3), 0px 1px 3px 1px rgba(60, 64, 67, 0.15);\n",
              "      fill: #174EA6;\n",
              "    }\n",
              "\n",
              "    .colab-df-buttons div {\n",
              "      margin-bottom: 4px;\n",
              "    }\n",
              "\n",
              "    [theme=dark] .colab-df-convert {\n",
              "      background-color: #3B4455;\n",
              "      fill: #D2E3FC;\n",
              "    }\n",
              "\n",
              "    [theme=dark] .colab-df-convert:hover {\n",
              "      background-color: #434B5C;\n",
              "      box-shadow: 0px 1px 3px 1px rgba(0, 0, 0, 0.15);\n",
              "      filter: drop-shadow(0px 1px 2px rgba(0, 0, 0, 0.3));\n",
              "      fill: #FFFFFF;\n",
              "    }\n",
              "  </style>\n",
              "\n",
              "    <script>\n",
              "      const buttonEl =\n",
              "        document.querySelector('#df-a8f4a4e0-579f-4694-89c9-7bea41aa9f83 button.colab-df-convert');\n",
              "      buttonEl.style.display =\n",
              "        google.colab.kernel.accessAllowed ? 'block' : 'none';\n",
              "\n",
              "      async function convertToInteractive(key) {\n",
              "        const element = document.querySelector('#df-a8f4a4e0-579f-4694-89c9-7bea41aa9f83');\n",
              "        const dataTable =\n",
              "          await google.colab.kernel.invokeFunction('convertToInteractive',\n",
              "                                                    [key], {});\n",
              "        if (!dataTable) return;\n",
              "\n",
              "        const docLinkHtml = 'Like what you see? Visit the ' +\n",
              "          '<a target=\"_blank\" href=https://colab.research.google.com/notebooks/data_table.ipynb>data table notebook</a>'\n",
              "          + ' to learn more about interactive tables.';\n",
              "        element.innerHTML = '';\n",
              "        dataTable['output_type'] = 'display_data';\n",
              "        await google.colab.output.renderOutput(dataTable, element);\n",
              "        const docLink = document.createElement('div');\n",
              "        docLink.innerHTML = docLinkHtml;\n",
              "        element.appendChild(docLink);\n",
              "      }\n",
              "    </script>\n",
              "  </div>\n",
              "\n",
              "\n",
              "<div id=\"df-fac852c7-0b82-4d5b-99ae-78ec90fcb891\">\n",
              "  <button class=\"colab-df-quickchart\" onclick=\"quickchart('df-fac852c7-0b82-4d5b-99ae-78ec90fcb891')\"\n",
              "            title=\"Suggest charts\"\n",
              "            style=\"display:none;\">\n",
              "\n",
              "<svg xmlns=\"http://www.w3.org/2000/svg\" height=\"24px\"viewBox=\"0 0 24 24\"\n",
              "     width=\"24px\">\n",
              "    <g>\n",
              "        <path d=\"M19 3H5c-1.1 0-2 .9-2 2v14c0 1.1.9 2 2 2h14c1.1 0 2-.9 2-2V5c0-1.1-.9-2-2-2zM9 17H7v-7h2v7zm4 0h-2V7h2v10zm4 0h-2v-4h2v4z\"/>\n",
              "    </g>\n",
              "</svg>\n",
              "  </button>\n",
              "\n",
              "<style>\n",
              "  .colab-df-quickchart {\n",
              "      --bg-color: #E8F0FE;\n",
              "      --fill-color: #1967D2;\n",
              "      --hover-bg-color: #E2EBFA;\n",
              "      --hover-fill-color: #174EA6;\n",
              "      --disabled-fill-color: #AAA;\n",
              "      --disabled-bg-color: #DDD;\n",
              "  }\n",
              "\n",
              "  [theme=dark] .colab-df-quickchart {\n",
              "      --bg-color: #3B4455;\n",
              "      --fill-color: #D2E3FC;\n",
              "      --hover-bg-color: #434B5C;\n",
              "      --hover-fill-color: #FFFFFF;\n",
              "      --disabled-bg-color: #3B4455;\n",
              "      --disabled-fill-color: #666;\n",
              "  }\n",
              "\n",
              "  .colab-df-quickchart {\n",
              "    background-color: var(--bg-color);\n",
              "    border: none;\n",
              "    border-radius: 50%;\n",
              "    cursor: pointer;\n",
              "    display: none;\n",
              "    fill: var(--fill-color);\n",
              "    height: 32px;\n",
              "    padding: 0;\n",
              "    width: 32px;\n",
              "  }\n",
              "\n",
              "  .colab-df-quickchart:hover {\n",
              "    background-color: var(--hover-bg-color);\n",
              "    box-shadow: 0 1px 2px rgba(60, 64, 67, 0.3), 0 1px 3px 1px rgba(60, 64, 67, 0.15);\n",
              "    fill: var(--button-hover-fill-color);\n",
              "  }\n",
              "\n",
              "  .colab-df-quickchart-complete:disabled,\n",
              "  .colab-df-quickchart-complete:disabled:hover {\n",
              "    background-color: var(--disabled-bg-color);\n",
              "    fill: var(--disabled-fill-color);\n",
              "    box-shadow: none;\n",
              "  }\n",
              "\n",
              "  .colab-df-spinner {\n",
              "    border: 2px solid var(--fill-color);\n",
              "    border-color: transparent;\n",
              "    border-bottom-color: var(--fill-color);\n",
              "    animation:\n",
              "      spin 1s steps(1) infinite;\n",
              "  }\n",
              "\n",
              "  @keyframes spin {\n",
              "    0% {\n",
              "      border-color: transparent;\n",
              "      border-bottom-color: var(--fill-color);\n",
              "      border-left-color: var(--fill-color);\n",
              "    }\n",
              "    20% {\n",
              "      border-color: transparent;\n",
              "      border-left-color: var(--fill-color);\n",
              "      border-top-color: var(--fill-color);\n",
              "    }\n",
              "    30% {\n",
              "      border-color: transparent;\n",
              "      border-left-color: var(--fill-color);\n",
              "      border-top-color: var(--fill-color);\n",
              "      border-right-color: var(--fill-color);\n",
              "    }\n",
              "    40% {\n",
              "      border-color: transparent;\n",
              "      border-right-color: var(--fill-color);\n",
              "      border-top-color: var(--fill-color);\n",
              "    }\n",
              "    60% {\n",
              "      border-color: transparent;\n",
              "      border-right-color: var(--fill-color);\n",
              "    }\n",
              "    80% {\n",
              "      border-color: transparent;\n",
              "      border-right-color: var(--fill-color);\n",
              "      border-bottom-color: var(--fill-color);\n",
              "    }\n",
              "    90% {\n",
              "      border-color: transparent;\n",
              "      border-bottom-color: var(--fill-color);\n",
              "    }\n",
              "  }\n",
              "</style>\n",
              "\n",
              "  <script>\n",
              "    async function quickchart(key) {\n",
              "      const quickchartButtonEl =\n",
              "        document.querySelector('#' + key + ' button');\n",
              "      quickchartButtonEl.disabled = true;  // To prevent multiple clicks.\n",
              "      quickchartButtonEl.classList.add('colab-df-spinner');\n",
              "      try {\n",
              "        const charts = await google.colab.kernel.invokeFunction(\n",
              "            'suggestCharts', [key], {});\n",
              "      } catch (error) {\n",
              "        console.error('Error during call to suggestCharts:', error);\n",
              "      }\n",
              "      quickchartButtonEl.classList.remove('colab-df-spinner');\n",
              "      quickchartButtonEl.classList.add('colab-df-quickchart-complete');\n",
              "    }\n",
              "    (() => {\n",
              "      let quickchartButtonEl =\n",
              "        document.querySelector('#df-fac852c7-0b82-4d5b-99ae-78ec90fcb891 button');\n",
              "      quickchartButtonEl.style.display =\n",
              "        google.colab.kernel.accessAllowed ? 'block' : 'none';\n",
              "    })();\n",
              "  </script>\n",
              "</div>\n",
              "\n",
              "  <div id=\"id_256b9349-962f-4eeb-856e-fef64fb393ae\">\n",
              "    <style>\n",
              "      .colab-df-generate {\n",
              "        background-color: #E8F0FE;\n",
              "        border: none;\n",
              "        border-radius: 50%;\n",
              "        cursor: pointer;\n",
              "        display: none;\n",
              "        fill: #1967D2;\n",
              "        height: 32px;\n",
              "        padding: 0 0 0 0;\n",
              "        width: 32px;\n",
              "      }\n",
              "\n",
              "      .colab-df-generate:hover {\n",
              "        background-color: #E2EBFA;\n",
              "        box-shadow: 0px 1px 2px rgba(60, 64, 67, 0.3), 0px 1px 3px 1px rgba(60, 64, 67, 0.15);\n",
              "        fill: #174EA6;\n",
              "      }\n",
              "\n",
              "      [theme=dark] .colab-df-generate {\n",
              "        background-color: #3B4455;\n",
              "        fill: #D2E3FC;\n",
              "      }\n",
              "\n",
              "      [theme=dark] .colab-df-generate:hover {\n",
              "        background-color: #434B5C;\n",
              "        box-shadow: 0px 1px 3px 1px rgba(0, 0, 0, 0.15);\n",
              "        filter: drop-shadow(0px 1px 2px rgba(0, 0, 0, 0.3));\n",
              "        fill: #FFFFFF;\n",
              "      }\n",
              "    </style>\n",
              "    <button class=\"colab-df-generate\" onclick=\"generateWithVariable('movies_with_tags')\"\n",
              "            title=\"Generate code using this dataframe.\"\n",
              "            style=\"display:none;\">\n",
              "\n",
              "  <svg xmlns=\"http://www.w3.org/2000/svg\" height=\"24px\"viewBox=\"0 0 24 24\"\n",
              "       width=\"24px\">\n",
              "    <path d=\"M7,19H8.4L18.45,9,17,7.55,7,17.6ZM5,21V16.75L18.45,3.32a2,2,0,0,1,2.83,0l1.4,1.43a1.91,1.91,0,0,1,.58,1.4,1.91,1.91,0,0,1-.58,1.4L9.25,21ZM18.45,9,17,7.55Zm-12,3A5.31,5.31,0,0,0,4.9,8.1,5.31,5.31,0,0,0,1,6.5,5.31,5.31,0,0,0,4.9,4.9,5.31,5.31,0,0,0,6.5,1,5.31,5.31,0,0,0,8.1,4.9,5.31,5.31,0,0,0,12,6.5,5.46,5.46,0,0,0,6.5,12Z\"/>\n",
              "  </svg>\n",
              "    </button>\n",
              "    <script>\n",
              "      (() => {\n",
              "      const buttonEl =\n",
              "        document.querySelector('#id_256b9349-962f-4eeb-856e-fef64fb393ae button.colab-df-generate');\n",
              "      buttonEl.style.display =\n",
              "        google.colab.kernel.accessAllowed ? 'block' : 'none';\n",
              "\n",
              "      buttonEl.onclick = () => {\n",
              "        google.colab.notebook.generateWithVariable('movies_with_tags');\n",
              "      }\n",
              "      })();\n",
              "    </script>\n",
              "  </div>\n",
              "\n",
              "    </div>\n",
              "  </div>\n"
            ],
            "application/vnd.google.colaboratory.intrinsic+json": {
              "type": "dataframe",
              "variable_name": "movies_with_tags",
              "summary": "{\n  \"name\": \"movies_with_tags\",\n  \"rows\": 9741,\n  \"fields\": [\n    {\n      \"column\": \"movieId\",\n      \"properties\": {\n        \"dtype\": \"number\",\n        \"std\": 52161,\n        \"min\": 1,\n        \"max\": 193609,\n        \"num_unique_values\": 9741,\n        \"samples\": [\n          4483,\n          5053,\n          84847\n        ],\n        \"semantic_type\": \"\",\n        \"description\": \"\"\n      }\n    },\n    {\n      \"column\": \"title\",\n      \"properties\": {\n        \"dtype\": \"string\",\n        \"num_unique_values\": 9411,\n        \"samples\": [\n          \"moonlight\",\n          \"mean girls\",\n          \"very long engagement, a\"\n        ],\n        \"semantic_type\": \"\",\n        \"description\": \"\"\n      }\n    },\n    {\n      \"column\": \"genres\",\n      \"properties\": {\n        \"dtype\": \"object\",\n        \"semantic_type\": \"\",\n        \"description\": \"\"\n      }\n    },\n    {\n      \"column\": \"tag\",\n      \"properties\": {\n        \"dtype\": \"category\",\n        \"num_unique_values\": 1039,\n        \"samples\": [\n          \"romantic comedy wedding weddings\",\n          \"Chris Evans comic book heroine in tight suit Jessica Alba sexy female scientist superhero\",\n          \"death\"\n        ],\n        \"semantic_type\": \"\",\n        \"description\": \"\"\n      }\n    },\n    {\n      \"column\": \"features\",\n      \"properties\": {\n        \"dtype\": \"category\",\n        \"num_unique_values\": 2271,\n        \"samples\": [\n          \"['Action', 'Comedy', 'Crime', 'Fantasy'] \",\n          \"['Action', 'Drama', 'Western'] action Christoph Waltz funny good soundtrack Great performances Humour Leonardo DiCaprio Quentin Tarantino Samuel L. Jackson Soundtrack western Soundtrack\",\n          \"['Adventure', 'Children', 'Comedy', 'Fantasy'] dark comedy Jim Carrey meryl streep quirky stylized\"\n        ],\n        \"semantic_type\": \"\",\n        \"description\": \"\"\n      }\n    }\n  ]\n}"
            }
          },
          "metadata": {},
          "execution_count": 102
        }
      ],
      "source": [
        "# We combine the movie genres and tags into a new column called features. This helps represent each movie by both its genre and associated tags.\n",
        "# Fill NaN values with an empty string to avoid issues during concatenation\n",
        "movies_with_tags['tag'] = movies_with_tags['tag'].fillna('')\n",
        "movies_with_tags['features'] = movies_with_tags['genres'].astype(str) + ' ' + movies_with_tags['tag'].astype(str)\n",
        "\n",
        "# Display the updated DataFrame\n",
        "movies_with_tags"
      ]
    },
    {
      "cell_type": "markdown",
      "metadata": {
        "id": "hA-TM4QCswHL"
      },
      "source": [
        "**Convert Text Data into Numerical Features (TF-IDF)**"
      ]
    },
    {
      "cell_type": "code",
      "execution_count": null,
      "metadata": {
        "colab": {
          "base_uri": "https://localhost:8080/"
        },
        "id": "E9gsSMSvsw2f",
        "outputId": "d3bee7c0-7676-4f05-eb13-6c2d8542207f"
      },
      "outputs": [
        {
          "output_type": "stream",
          "name": "stdout",
          "text": [
            "TF-IDF matrix shape: (9741, 1677)\n"
          ]
        }
      ],
      "source": [
        "# It creates a matrix where each movie is represented by the importance of the words (genres and tags) used to describe it.\n",
        "# Initialize the TF-IDF Vectorizer\n",
        "tfidf_vectorizer = TfidfVectorizer(stop_words='english')\n",
        "\n",
        "# Fit and transform the 'features' column\n",
        "tfidf_matrix = tfidf_vectorizer.fit_transform(movies_with_tags['features'])\n",
        "\n",
        "# Check the shape of the resulting TF-IDF matrix\n",
        "print(f\"TF-IDF matrix shape: {tfidf_matrix.shape}\") # rows correspond to movies and columns correspond to unique words in the features column."
      ]
    },
    {
      "cell_type": "code",
      "execution_count": null,
      "metadata": {
        "colab": {
          "base_uri": "https://localhost:8080/"
        },
        "id": "gxYLgElIs17l",
        "outputId": "5c2c883c-a8dd-4980-ff94-2c3d7bca9303"
      },
      "outputs": [
        {
          "output_type": "stream",
          "name": "stdout",
          "text": [
            "['06' '1900s' '1920s' '1950s' '1960s' '1970s' '1980s' '1990s' '2001' '250'\n",
            " '2d' '70mm' '80' 'aardman' 'abortion' 'absorbing' 'abstract' 'abuse'\n",
            " 'academy' 'accident' 'achronological' 'acting' 'action' 'actors'\n",
            " 'actress' 'adam' 'adams' 'adaptation' 'addiction' 'adolescence'\n",
            " 'adoption' 'adorable' 'adrien' 'ads' 'adult' 'adultery' 'adventure'\n",
            " 'affleck' 'afghanistan' 'africa' 'agatha' 'age' 'aggressive' 'aging'\n",
            " 'aids' 'al' 'alan' 'alba' 'alcatraz' 'alcoholism' 'alcott' 'alfred'\n",
            " 'alicia' 'aliens' 'allegorical' 'alter' 'alternate' 'amazing' 'america'\n",
            " 'american' 'americans' 'amish' 'amnesia' 'amtrak' 'amy' 'ancient'\n",
            " 'andrew' 'android' 'androids' 'andy' 'angeles' 'angelina' 'anger'\n",
            " 'animal' 'animated' 'animation' 'anime' 'anne' 'annoying' 'anthology'\n",
            " 'anthony' 'anti' 'apes' 'apocalypse' 'apocalyptic' 'appealing' 'aquarium'\n",
            " 'archaeology' 'ark' 'arnold' 'art' 'arthouse' 'arthur' 'artificial'\n",
            " 'artistic' 'artists' 'arts' 'artsy' 'artwork' 'ass']\n"
          ]
        }
      ],
      "source": [
        "# Get feature names\n",
        "feature_names = tfidf_vectorizer.get_feature_names_out()\n",
        "\n",
        "# Print the first 10 feature names\n",
        "print(feature_names[:100])"
      ]
    },
    {
      "cell_type": "markdown",
      "metadata": {
        "id": "IHPiHm5psz6w"
      },
      "source": [
        "**Calculate Cosine Similarity Between Movies**\n"
      ]
    },
    {
      "cell_type": "code",
      "execution_count": null,
      "metadata": {
        "colab": {
          "base_uri": "https://localhost:8080/"
        },
        "id": "0KaQK9Rus-B1",
        "outputId": "fa57c9dc-7bce-4647-fcec-14df94c3fc2f"
      },
      "outputs": [
        {
          "output_type": "stream",
          "name": "stdout",
          "text": [
            "Cosine similarity matrix shape: (9741, 9741)\n"
          ]
        }
      ],
      "source": [
        "# Calculate how similar each movie is to every other movie. It does this by comparing the movie feature vectors using cosine similarity.\n",
        "#Higher similarity scores mean the movies are more alike.\n",
        "# Compute the cosine similarity matrix\n",
        "cosine_sim = cosine_similarity(tfidf_matrix, tfidf_matrix)\n",
        "\n",
        "# Check the shape of the cosine similarity matrix\n",
        "print(f\"Cosine similarity matrix shape: {cosine_sim.shape}\")"
      ]
    },
    {
      "cell_type": "code",
      "execution_count": null,
      "metadata": {
        "id": "OdODHOuCtBHU"
      },
      "outputs": [],
      "source": [
        "#Map movie titles to their corresponding index. This is useful for quickly finding a movie's index when we need to calculate its similarity.\n",
        "indices = pd.Series(movies_with_tags.index, index=movies_with_tags['title']).drop_duplicates()"
      ]
    },
    {
      "cell_type": "code",
      "execution_count": null,
      "metadata": {
        "id": "TPYULMAdtDVD"
      },
      "outputs": [],
      "source": [
        "# Function that takes in movie title as input and outputs most similar movies\n",
        "def get_recommendations(title, cosine_sim=cosine_sim):\n",
        "    # Get the index of the movie that matches the title\n",
        "    idx = indices[title]\n",
        "\n",
        "    # Get the pairwsie similarity scores of all movies with that movie\n",
        "    sim_scores = list(enumerate(cosine_sim[idx]))\n",
        "\n",
        "    # Sort the movies based on the similarity scores\n",
        "    sim_scores = sorted(sim_scores, key=lambda x: x[1], reverse=True)\n",
        "\n",
        "    # Get the scores of the 10 most similar movies\n",
        "    sim_scores1 = sim_scores[1:11]\n",
        "\n",
        "    # Get the movie indices\n",
        "    movie_indices = [i[0] for i in sim_scores]\n",
        "\n",
        "    # Return the top 10 most similar movies\n",
        "    return movies_with_tags['title'].iloc[movie_indices],sim_scores"
      ]
    },
    {
      "cell_type": "code",
      "execution_count": null,
      "metadata": {
        "colab": {
          "base_uri": "https://localhost:8080/",
          "height": 458
        },
        "id": "_XX9DknDtIOa",
        "outputId": "aa164f77-27d6-48ca-ac02-9eb89c08faeb"
      },
      "outputs": [
        {
          "output_type": "execute_result",
          "data": {
            "text/plain": [
              "0                               toy story\n",
              "1756                        bug's life, a\n",
              "2354                          toy story 2\n",
              "8694            guardians of the galaxy 2\n",
              "1705                                 antz\n",
              "                      ...                \n",
              "9726                            john from\n",
              "9727                         liquid truth\n",
              "9729                    hommage à zgougou\n",
              "9735    jon stewart has left the building\n",
              "9738                                flint\n",
              "Name: title, Length: 9741, dtype: object"
            ],
            "text/html": [
              "<div>\n",
              "<style scoped>\n",
              "    .dataframe tbody tr th:only-of-type {\n",
              "        vertical-align: middle;\n",
              "    }\n",
              "\n",
              "    .dataframe tbody tr th {\n",
              "        vertical-align: top;\n",
              "    }\n",
              "\n",
              "    .dataframe thead th {\n",
              "        text-align: right;\n",
              "    }\n",
              "</style>\n",
              "<table border=\"1\" class=\"dataframe\">\n",
              "  <thead>\n",
              "    <tr style=\"text-align: right;\">\n",
              "      <th></th>\n",
              "      <th>title</th>\n",
              "    </tr>\n",
              "  </thead>\n",
              "  <tbody>\n",
              "    <tr>\n",
              "      <th>0</th>\n",
              "      <td>toy story</td>\n",
              "    </tr>\n",
              "    <tr>\n",
              "      <th>1756</th>\n",
              "      <td>bug's life, a</td>\n",
              "    </tr>\n",
              "    <tr>\n",
              "      <th>2354</th>\n",
              "      <td>toy story 2</td>\n",
              "    </tr>\n",
              "    <tr>\n",
              "      <th>8694</th>\n",
              "      <td>guardians of the galaxy 2</td>\n",
              "    </tr>\n",
              "    <tr>\n",
              "      <th>1705</th>\n",
              "      <td>antz</td>\n",
              "    </tr>\n",
              "    <tr>\n",
              "      <th>...</th>\n",
              "      <td>...</td>\n",
              "    </tr>\n",
              "    <tr>\n",
              "      <th>9726</th>\n",
              "      <td>john from</td>\n",
              "    </tr>\n",
              "    <tr>\n",
              "      <th>9727</th>\n",
              "      <td>liquid truth</td>\n",
              "    </tr>\n",
              "    <tr>\n",
              "      <th>9729</th>\n",
              "      <td>hommage à zgougou</td>\n",
              "    </tr>\n",
              "    <tr>\n",
              "      <th>9735</th>\n",
              "      <td>jon stewart has left the building</td>\n",
              "    </tr>\n",
              "    <tr>\n",
              "      <th>9738</th>\n",
              "      <td>flint</td>\n",
              "    </tr>\n",
              "  </tbody>\n",
              "</table>\n",
              "<p>9741 rows × 1 columns</p>\n",
              "</div><br><label><b>dtype:</b> object</label>"
            ]
          },
          "metadata": {},
          "execution_count": 108
        }
      ],
      "source": [
        "recommendations = get_recommendations('toy story')\n",
        "recommendations[0]"
      ]
    },
    {
      "cell_type": "code",
      "execution_count": null,
      "metadata": {
        "colab": {
          "base_uri": "https://localhost:8080/",
          "height": 458
        },
        "id": "LNuMO_a3tIDt",
        "outputId": "8591d594-3d4c-4b2e-e131-1d231b83fcf2"
      },
      "outputs": [
        {
          "output_type": "execute_result",
          "data": {
            "text/plain": [
              "8474               guardians of the galaxy\n",
              "176                             waterworld\n",
              "385                         demolition man\n",
              "1057    star trek iii the search for spock\n",
              "1345                         lost in space\n",
              "                       ...                \n",
              "9734      love live! the school idol movie\n",
              "9735     jon stewart has left the building\n",
              "9737                  no game no life zero\n",
              "9738                                 flint\n",
              "9740           andrew dice clay dice rules\n",
              "Name: title, Length: 9741, dtype: object"
            ],
            "text/html": [
              "<div>\n",
              "<style scoped>\n",
              "    .dataframe tbody tr th:only-of-type {\n",
              "        vertical-align: middle;\n",
              "    }\n",
              "\n",
              "    .dataframe tbody tr th {\n",
              "        vertical-align: top;\n",
              "    }\n",
              "\n",
              "    .dataframe thead th {\n",
              "        text-align: right;\n",
              "    }\n",
              "</style>\n",
              "<table border=\"1\" class=\"dataframe\">\n",
              "  <thead>\n",
              "    <tr style=\"text-align: right;\">\n",
              "      <th></th>\n",
              "      <th>title</th>\n",
              "    </tr>\n",
              "  </thead>\n",
              "  <tbody>\n",
              "    <tr>\n",
              "      <th>8474</th>\n",
              "      <td>guardians of the galaxy</td>\n",
              "    </tr>\n",
              "    <tr>\n",
              "      <th>176</th>\n",
              "      <td>waterworld</td>\n",
              "    </tr>\n",
              "    <tr>\n",
              "      <th>385</th>\n",
              "      <td>demolition man</td>\n",
              "    </tr>\n",
              "    <tr>\n",
              "      <th>1057</th>\n",
              "      <td>star trek iii the search for spock</td>\n",
              "    </tr>\n",
              "    <tr>\n",
              "      <th>1345</th>\n",
              "      <td>lost in space</td>\n",
              "    </tr>\n",
              "    <tr>\n",
              "      <th>...</th>\n",
              "      <td>...</td>\n",
              "    </tr>\n",
              "    <tr>\n",
              "      <th>9734</th>\n",
              "      <td>love live! the school idol movie</td>\n",
              "    </tr>\n",
              "    <tr>\n",
              "      <th>9735</th>\n",
              "      <td>jon stewart has left the building</td>\n",
              "    </tr>\n",
              "    <tr>\n",
              "      <th>9737</th>\n",
              "      <td>no game no life zero</td>\n",
              "    </tr>\n",
              "    <tr>\n",
              "      <th>9738</th>\n",
              "      <td>flint</td>\n",
              "    </tr>\n",
              "    <tr>\n",
              "      <th>9740</th>\n",
              "      <td>andrew dice clay dice rules</td>\n",
              "    </tr>\n",
              "  </tbody>\n",
              "</table>\n",
              "<p>9741 rows × 1 columns</p>\n",
              "</div><br><label><b>dtype:</b> object</label>"
            ]
          },
          "metadata": {},
          "execution_count": 109
        }
      ],
      "source": [
        "recommendations = get_recommendations('guardians of the galaxy')\n",
        "recommendations[0]"
      ]
    },
    {
      "cell_type": "markdown",
      "metadata": {
        "id": "sbsGAbMZeALi"
      },
      "source": [
        "# **Hybrid Recommendation**"
      ]
    },
    {
      "cell_type": "code",
      "execution_count": null,
      "metadata": {
        "id": "2bbo-bx8qamY",
        "outputId": "5770e9c9-04d1-4c04-d4f4-d60c6ef14a7c",
        "colab": {
          "base_uri": "https://localhost:8080/",
          "height": 224
        }
      },
      "outputs": [
        {
          "output_type": "stream",
          "name": "stdout",
          "text": [
            "Hybrid Recommendations:\n"
          ]
        },
        {
          "output_type": "execute_result",
          "data": {
            "text/plain": [
              "   movieId               title  hybrid_score\n",
              "0     3114         toy story 2      0.902151\n",
              "1     2355       bug's life, a      0.770024\n",
              "2      588             aladdin      0.566667\n",
              "3     2080  lady and the tramp      0.549497\n",
              "4     2294                antz      0.545255"
            ],
            "text/html": [
              "\n",
              "  <div id=\"df-dc275329-5bf2-4105-9804-82ab6505cdc7\" class=\"colab-df-container\">\n",
              "    <div>\n",
              "<style scoped>\n",
              "    .dataframe tbody tr th:only-of-type {\n",
              "        vertical-align: middle;\n",
              "    }\n",
              "\n",
              "    .dataframe tbody tr th {\n",
              "        vertical-align: top;\n",
              "    }\n",
              "\n",
              "    .dataframe thead th {\n",
              "        text-align: right;\n",
              "    }\n",
              "</style>\n",
              "<table border=\"1\" class=\"dataframe\">\n",
              "  <thead>\n",
              "    <tr style=\"text-align: right;\">\n",
              "      <th></th>\n",
              "      <th>movieId</th>\n",
              "      <th>title</th>\n",
              "      <th>hybrid_score</th>\n",
              "    </tr>\n",
              "  </thead>\n",
              "  <tbody>\n",
              "    <tr>\n",
              "      <th>0</th>\n",
              "      <td>3114</td>\n",
              "      <td>toy story 2</td>\n",
              "      <td>0.902151</td>\n",
              "    </tr>\n",
              "    <tr>\n",
              "      <th>1</th>\n",
              "      <td>2355</td>\n",
              "      <td>bug's life, a</td>\n",
              "      <td>0.770024</td>\n",
              "    </tr>\n",
              "    <tr>\n",
              "      <th>2</th>\n",
              "      <td>588</td>\n",
              "      <td>aladdin</td>\n",
              "      <td>0.566667</td>\n",
              "    </tr>\n",
              "    <tr>\n",
              "      <th>3</th>\n",
              "      <td>2080</td>\n",
              "      <td>lady and the tramp</td>\n",
              "      <td>0.549497</td>\n",
              "    </tr>\n",
              "    <tr>\n",
              "      <th>4</th>\n",
              "      <td>2294</td>\n",
              "      <td>antz</td>\n",
              "      <td>0.545255</td>\n",
              "    </tr>\n",
              "  </tbody>\n",
              "</table>\n",
              "</div>\n",
              "    <div class=\"colab-df-buttons\">\n",
              "\n",
              "  <div class=\"colab-df-container\">\n",
              "    <button class=\"colab-df-convert\" onclick=\"convertToInteractive('df-dc275329-5bf2-4105-9804-82ab6505cdc7')\"\n",
              "            title=\"Convert this dataframe to an interactive table.\"\n",
              "            style=\"display:none;\">\n",
              "\n",
              "  <svg xmlns=\"http://www.w3.org/2000/svg\" height=\"24px\" viewBox=\"0 -960 960 960\">\n",
              "    <path d=\"M120-120v-720h720v720H120Zm60-500h600v-160H180v160Zm220 220h160v-160H400v160Zm0 220h160v-160H400v160ZM180-400h160v-160H180v160Zm440 0h160v-160H620v160ZM180-180h160v-160H180v160Zm440 0h160v-160H620v160Z\"/>\n",
              "  </svg>\n",
              "    </button>\n",
              "\n",
              "  <style>\n",
              "    .colab-df-container {\n",
              "      display:flex;\n",
              "      gap: 12px;\n",
              "    }\n",
              "\n",
              "    .colab-df-convert {\n",
              "      background-color: #E8F0FE;\n",
              "      border: none;\n",
              "      border-radius: 50%;\n",
              "      cursor: pointer;\n",
              "      display: none;\n",
              "      fill: #1967D2;\n",
              "      height: 32px;\n",
              "      padding: 0 0 0 0;\n",
              "      width: 32px;\n",
              "    }\n",
              "\n",
              "    .colab-df-convert:hover {\n",
              "      background-color: #E2EBFA;\n",
              "      box-shadow: 0px 1px 2px rgba(60, 64, 67, 0.3), 0px 1px 3px 1px rgba(60, 64, 67, 0.15);\n",
              "      fill: #174EA6;\n",
              "    }\n",
              "\n",
              "    .colab-df-buttons div {\n",
              "      margin-bottom: 4px;\n",
              "    }\n",
              "\n",
              "    [theme=dark] .colab-df-convert {\n",
              "      background-color: #3B4455;\n",
              "      fill: #D2E3FC;\n",
              "    }\n",
              "\n",
              "    [theme=dark] .colab-df-convert:hover {\n",
              "      background-color: #434B5C;\n",
              "      box-shadow: 0px 1px 3px 1px rgba(0, 0, 0, 0.15);\n",
              "      filter: drop-shadow(0px 1px 2px rgba(0, 0, 0, 0.3));\n",
              "      fill: #FFFFFF;\n",
              "    }\n",
              "  </style>\n",
              "\n",
              "    <script>\n",
              "      const buttonEl =\n",
              "        document.querySelector('#df-dc275329-5bf2-4105-9804-82ab6505cdc7 button.colab-df-convert');\n",
              "      buttonEl.style.display =\n",
              "        google.colab.kernel.accessAllowed ? 'block' : 'none';\n",
              "\n",
              "      async function convertToInteractive(key) {\n",
              "        const element = document.querySelector('#df-dc275329-5bf2-4105-9804-82ab6505cdc7');\n",
              "        const dataTable =\n",
              "          await google.colab.kernel.invokeFunction('convertToInteractive',\n",
              "                                                    [key], {});\n",
              "        if (!dataTable) return;\n",
              "\n",
              "        const docLinkHtml = 'Like what you see? Visit the ' +\n",
              "          '<a target=\"_blank\" href=https://colab.research.google.com/notebooks/data_table.ipynb>data table notebook</a>'\n",
              "          + ' to learn more about interactive tables.';\n",
              "        element.innerHTML = '';\n",
              "        dataTable['output_type'] = 'display_data';\n",
              "        await google.colab.output.renderOutput(dataTable, element);\n",
              "        const docLink = document.createElement('div');\n",
              "        docLink.innerHTML = docLinkHtml;\n",
              "        element.appendChild(docLink);\n",
              "      }\n",
              "    </script>\n",
              "  </div>\n",
              "\n",
              "\n",
              "<div id=\"df-b248225b-a6e9-4a22-8e21-c04eca627d82\">\n",
              "  <button class=\"colab-df-quickchart\" onclick=\"quickchart('df-b248225b-a6e9-4a22-8e21-c04eca627d82')\"\n",
              "            title=\"Suggest charts\"\n",
              "            style=\"display:none;\">\n",
              "\n",
              "<svg xmlns=\"http://www.w3.org/2000/svg\" height=\"24px\"viewBox=\"0 0 24 24\"\n",
              "     width=\"24px\">\n",
              "    <g>\n",
              "        <path d=\"M19 3H5c-1.1 0-2 .9-2 2v14c0 1.1.9 2 2 2h14c1.1 0 2-.9 2-2V5c0-1.1-.9-2-2-2zM9 17H7v-7h2v7zm4 0h-2V7h2v10zm4 0h-2v-4h2v4z\"/>\n",
              "    </g>\n",
              "</svg>\n",
              "  </button>\n",
              "\n",
              "<style>\n",
              "  .colab-df-quickchart {\n",
              "      --bg-color: #E8F0FE;\n",
              "      --fill-color: #1967D2;\n",
              "      --hover-bg-color: #E2EBFA;\n",
              "      --hover-fill-color: #174EA6;\n",
              "      --disabled-fill-color: #AAA;\n",
              "      --disabled-bg-color: #DDD;\n",
              "  }\n",
              "\n",
              "  [theme=dark] .colab-df-quickchart {\n",
              "      --bg-color: #3B4455;\n",
              "      --fill-color: #D2E3FC;\n",
              "      --hover-bg-color: #434B5C;\n",
              "      --hover-fill-color: #FFFFFF;\n",
              "      --disabled-bg-color: #3B4455;\n",
              "      --disabled-fill-color: #666;\n",
              "  }\n",
              "\n",
              "  .colab-df-quickchart {\n",
              "    background-color: var(--bg-color);\n",
              "    border: none;\n",
              "    border-radius: 50%;\n",
              "    cursor: pointer;\n",
              "    display: none;\n",
              "    fill: var(--fill-color);\n",
              "    height: 32px;\n",
              "    padding: 0;\n",
              "    width: 32px;\n",
              "  }\n",
              "\n",
              "  .colab-df-quickchart:hover {\n",
              "    background-color: var(--hover-bg-color);\n",
              "    box-shadow: 0 1px 2px rgba(60, 64, 67, 0.3), 0 1px 3px 1px rgba(60, 64, 67, 0.15);\n",
              "    fill: var(--button-hover-fill-color);\n",
              "  }\n",
              "\n",
              "  .colab-df-quickchart-complete:disabled,\n",
              "  .colab-df-quickchart-complete:disabled:hover {\n",
              "    background-color: var(--disabled-bg-color);\n",
              "    fill: var(--disabled-fill-color);\n",
              "    box-shadow: none;\n",
              "  }\n",
              "\n",
              "  .colab-df-spinner {\n",
              "    border: 2px solid var(--fill-color);\n",
              "    border-color: transparent;\n",
              "    border-bottom-color: var(--fill-color);\n",
              "    animation:\n",
              "      spin 1s steps(1) infinite;\n",
              "  }\n",
              "\n",
              "  @keyframes spin {\n",
              "    0% {\n",
              "      border-color: transparent;\n",
              "      border-bottom-color: var(--fill-color);\n",
              "      border-left-color: var(--fill-color);\n",
              "    }\n",
              "    20% {\n",
              "      border-color: transparent;\n",
              "      border-left-color: var(--fill-color);\n",
              "      border-top-color: var(--fill-color);\n",
              "    }\n",
              "    30% {\n",
              "      border-color: transparent;\n",
              "      border-left-color: var(--fill-color);\n",
              "      border-top-color: var(--fill-color);\n",
              "      border-right-color: var(--fill-color);\n",
              "    }\n",
              "    40% {\n",
              "      border-color: transparent;\n",
              "      border-right-color: var(--fill-color);\n",
              "      border-top-color: var(--fill-color);\n",
              "    }\n",
              "    60% {\n",
              "      border-color: transparent;\n",
              "      border-right-color: var(--fill-color);\n",
              "    }\n",
              "    80% {\n",
              "      border-color: transparent;\n",
              "      border-right-color: var(--fill-color);\n",
              "      border-bottom-color: var(--fill-color);\n",
              "    }\n",
              "    90% {\n",
              "      border-color: transparent;\n",
              "      border-bottom-color: var(--fill-color);\n",
              "    }\n",
              "  }\n",
              "</style>\n",
              "\n",
              "  <script>\n",
              "    async function quickchart(key) {\n",
              "      const quickchartButtonEl =\n",
              "        document.querySelector('#' + key + ' button');\n",
              "      quickchartButtonEl.disabled = true;  // To prevent multiple clicks.\n",
              "      quickchartButtonEl.classList.add('colab-df-spinner');\n",
              "      try {\n",
              "        const charts = await google.colab.kernel.invokeFunction(\n",
              "            'suggestCharts', [key], {});\n",
              "      } catch (error) {\n",
              "        console.error('Error during call to suggestCharts:', error);\n",
              "      }\n",
              "      quickchartButtonEl.classList.remove('colab-df-spinner');\n",
              "      quickchartButtonEl.classList.add('colab-df-quickchart-complete');\n",
              "    }\n",
              "    (() => {\n",
              "      let quickchartButtonEl =\n",
              "        document.querySelector('#df-b248225b-a6e9-4a22-8e21-c04eca627d82 button');\n",
              "      quickchartButtonEl.style.display =\n",
              "        google.colab.kernel.accessAllowed ? 'block' : 'none';\n",
              "    })();\n",
              "  </script>\n",
              "</div>\n",
              "\n",
              "  <div id=\"id_3304c4dc-09c9-4cc2-a424-e7326953e27e\">\n",
              "    <style>\n",
              "      .colab-df-generate {\n",
              "        background-color: #E8F0FE;\n",
              "        border: none;\n",
              "        border-radius: 50%;\n",
              "        cursor: pointer;\n",
              "        display: none;\n",
              "        fill: #1967D2;\n",
              "        height: 32px;\n",
              "        padding: 0 0 0 0;\n",
              "        width: 32px;\n",
              "      }\n",
              "\n",
              "      .colab-df-generate:hover {\n",
              "        background-color: #E2EBFA;\n",
              "        box-shadow: 0px 1px 2px rgba(60, 64, 67, 0.3), 0px 1px 3px 1px rgba(60, 64, 67, 0.15);\n",
              "        fill: #174EA6;\n",
              "      }\n",
              "\n",
              "      [theme=dark] .colab-df-generate {\n",
              "        background-color: #3B4455;\n",
              "        fill: #D2E3FC;\n",
              "      }\n",
              "\n",
              "      [theme=dark] .colab-df-generate:hover {\n",
              "        background-color: #434B5C;\n",
              "        box-shadow: 0px 1px 3px 1px rgba(0, 0, 0, 0.15);\n",
              "        filter: drop-shadow(0px 1px 2px rgba(0, 0, 0, 0.3));\n",
              "        fill: #FFFFFF;\n",
              "      }\n",
              "    </style>\n",
              "    <button class=\"colab-df-generate\" onclick=\"generateWithVariable('recommendation')\"\n",
              "            title=\"Generate code using this dataframe.\"\n",
              "            style=\"display:none;\">\n",
              "\n",
              "  <svg xmlns=\"http://www.w3.org/2000/svg\" height=\"24px\"viewBox=\"0 0 24 24\"\n",
              "       width=\"24px\">\n",
              "    <path d=\"M7,19H8.4L18.45,9,17,7.55,7,17.6ZM5,21V16.75L18.45,3.32a2,2,0,0,1,2.83,0l1.4,1.43a1.91,1.91,0,0,1,.58,1.4,1.91,1.91,0,0,1-.58,1.4L9.25,21ZM18.45,9,17,7.55Zm-12,3A5.31,5.31,0,0,0,4.9,8.1,5.31,5.31,0,0,0,1,6.5,5.31,5.31,0,0,0,4.9,4.9,5.31,5.31,0,0,0,6.5,1,5.31,5.31,0,0,0,8.1,4.9,5.31,5.31,0,0,0,12,6.5,5.46,5.46,0,0,0,6.5,12Z\"/>\n",
              "  </svg>\n",
              "    </button>\n",
              "    <script>\n",
              "      (() => {\n",
              "      const buttonEl =\n",
              "        document.querySelector('#id_3304c4dc-09c9-4cc2-a424-e7326953e27e button.colab-df-generate');\n",
              "      buttonEl.style.display =\n",
              "        google.colab.kernel.accessAllowed ? 'block' : 'none';\n",
              "\n",
              "      buttonEl.onclick = () => {\n",
              "        google.colab.notebook.generateWithVariable('recommendation');\n",
              "      }\n",
              "      })();\n",
              "    </script>\n",
              "  </div>\n",
              "\n",
              "    </div>\n",
              "  </div>\n"
            ],
            "application/vnd.google.colaboratory.intrinsic+json": {
              "type": "dataframe",
              "variable_name": "recommendation",
              "summary": "{\n  \"name\": \"recommendation\",\n  \"rows\": 5,\n  \"fields\": [\n    {\n      \"column\": \"movieId\",\n      \"properties\": {\n        \"dtype\": \"number\",\n        \"std\": 924,\n        \"min\": 588,\n        \"max\": 3114,\n        \"num_unique_values\": 5,\n        \"samples\": [\n          2355,\n          2294,\n          588\n        ],\n        \"semantic_type\": \"\",\n        \"description\": \"\"\n      }\n    },\n    {\n      \"column\": \"title\",\n      \"properties\": {\n        \"dtype\": \"string\",\n        \"num_unique_values\": 5,\n        \"samples\": [\n          \"bug's life, a\",\n          \"antz\",\n          \"aladdin\"\n        ],\n        \"semantic_type\": \"\",\n        \"description\": \"\"\n      }\n    },\n    {\n      \"column\": \"hybrid_score\",\n      \"properties\": {\n        \"dtype\": \"number\",\n        \"std\": 0.16171358299817928,\n        \"min\": 0.5452549561209188,\n        \"max\": 0.902151333149877,\n        \"num_unique_values\": 5,\n        \"samples\": [\n          0.7700235566575542,\n          0.5452549561209188,\n          0.5666665372418105\n        ],\n        \"semantic_type\": \"\",\n        \"description\": \"\"\n      }\n    }\n  ]\n}"
            }
          },
          "metadata": {},
          "execution_count": 110
        }
      ],
      "source": [
        "def hybrid_recommendation(user_id, movie_id, user_item_matrix, item_similarity_df, movies, top_n=5, weight_item=0.5, weight_content=0.5):\n",
        "\n",
        "    # get content-based recommendations\n",
        "    content_based_movies, content_based_scores = get_recommendations(movie_id)\n",
        "    tn = content_based_movies.shape[0]\n",
        "\n",
        "    # get item-based recommendations\n",
        "    item_based_scores = recommend_item_based(user_id, user_item_matrix, item_similarity_df, tn)\n",
        "\n",
        "    # item-based scores into DataFrame\n",
        "    item_based_scores = item_based_scores.reset_index()\n",
        "    item_based_scores.columns = ['movieId', 'item_score']\n",
        "\n",
        "\n",
        "    content_based_scores = pd.DataFrame(content_based_scores, columns=['index', 'content_score'])\n",
        "\n",
        "    # map content-based scores to movie IDs\n",
        "    content_based_scores['movieId'] = content_based_scores['index'].apply(lambda x: movies_with_tags.iloc[x]['movieId'])\n",
        "    content_based_scores = content_based_scores[['movieId', 'content_score']]\n",
        "\n",
        "    # normalize scores\n",
        "    item_based_scores['item_score'] /= item_based_scores['item_score'].max()\n",
        "    content_based_scores['content_score'] /= content_based_scores['content_score'].max()\n",
        "\n",
        "    # merge recommendations\n",
        "    combined_scores = pd.merge(\n",
        "        item_based_scores,\n",
        "        content_based_scores,\n",
        "        on='movieId',\n",
        "        how='outer'\n",
        "    ).fillna(0)  # Fill NaNs with 0 for missing scores\n",
        "\n",
        "    # compute weighted hybrid scores(50,50 even tho increasing weight for item increases overall score)\n",
        "    combined_scores['hybrid_score'] = (\n",
        "        weight_item * combined_scores['item_score'] +\n",
        "        weight_content * combined_scores['content_score']\n",
        "    )\n",
        "\n",
        "    # sort by hybrid score and get top-N\n",
        "    combined_scores = combined_scores.sort_values('hybrid_score', ascending=False)\n",
        "\n",
        "    # Add movie titles for readability\n",
        "    combined_scores = combined_scores.merge(movies[['movieId', 'title']], on='movieId', how='left')\n",
        "\n",
        "    return combined_scores[['movieId', 'title', 'hybrid_score']].head(top_n)\n",
        "\n",
        "user_id = 1\n",
        "movie_id = 2354\n",
        "print(\"Hybrid Recommendations:\")\n",
        "recommendation = hybrid_recommendation(user_id, movie_id, user_item_matrix, item_similarity_df, movies, top_n=5, weight_item=0.5, weight_content=0.5)\n",
        "recommendation"
      ]
    },
    {
      "cell_type": "markdown",
      "source": [
        "# **Collaborative Filtering Using SVD Model**"
      ],
      "metadata": {
        "id": "M51JJSIN1gD_"
      }
    },
    {
      "cell_type": "code",
      "execution_count": null,
      "metadata": {
        "id": "ksaDMEEXqamZ"
      },
      "outputs": [],
      "source": [
        "# Drop duplicates (if any)\n",
        "merged_movies_rating = merged_movies_rating.drop_duplicates(['userId', 'movieId'])\n",
        "\n",
        "# Load data into Surprise's Dataset format\n",
        "reader = Reader(rating_scale=(1, 5))  # Define the rating scale\n",
        "dataset = Dataset.load_from_df(merged_movies_rating[['userId', 'movieId', 'rating']], reader)\n",
        "\n",
        "# MODEL\n",
        "# Initialize the SVD model\n",
        "model = SVD()"
      ]
    },
    {
      "cell_type": "markdown",
      "source": [
        "## **Cross Validation**"
      ],
      "metadata": {
        "id": "UhEysGZJ1oVt"
      }
    },
    {
      "cell_type": "code",
      "execution_count": null,
      "metadata": {
        "id": "SOiFCFwsqamZ",
        "outputId": "05eb413b-f72b-4c4a-fb62-d010882016c5",
        "colab": {
          "base_uri": "https://localhost:8080/"
        }
      },
      "outputs": [
        {
          "output_type": "stream",
          "name": "stdout",
          "text": [
            "Evaluating RMSE, MAE of algorithm SVD on 5 split(s).\n",
            "\n",
            "                  Fold 1  Fold 2  Fold 3  Fold 4  Fold 5  Mean    Std     \n",
            "RMSE (testset)    0.8727  0.8751  0.8683  0.8726  0.8796  0.8737  0.0037  \n",
            "MAE (testset)     0.6694  0.6722  0.6673  0.6702  0.6785  0.6715  0.0038  \n",
            "Fit time          1.43    1.49    1.44    1.85    2.23    1.68    0.31    \n",
            "Test time         0.12    0.30    0.11    0.19    0.34    0.21    0.09    \n",
            "Cross-Validation Results:\n",
            "Average RMSE: 0.8736525284181667\n",
            "Average MAE: 0.6715113214738511\n"
          ]
        }
      ],
      "source": [
        "# evaluate the model using cross-validation (slightly better Average MAE: 0.6720204380657518 vs MAE:  0.6724)\n",
        "results = cross_validate(model, dataset, measures=['RMSE', 'MAE'], cv=5, verbose=True)\n",
        "print(\"Cross-Validation Results:\")\n",
        "print(f\"Average RMSE: {results['test_rmse'].mean()}\")\n",
        "print(f\"Average MAE: {results['test_mae'].mean()}\")"
      ]
    },
    {
      "cell_type": "code",
      "source": [
        "# split the dataset into 20% test 80% train\n",
        "trainset, testset = train_test_split(dataset, test_size=0.2)\n",
        "\n",
        "# train the model on the full training set\n",
        "model.fit(trainset)\n",
        "\n",
        "# prediction and evaluation\n",
        "predictions = model.test(testset)\n",
        "\n",
        "rmse = accuracy.rmse(predictions)\n",
        "mae = accuracy.mae(predictions)"
      ],
      "metadata": {
        "colab": {
          "base_uri": "https://localhost:8080/"
        },
        "id": "cV-TPwvovem-",
        "outputId": "595b6053-32b8-4d14-bac3-8e9a96383cc5"
      },
      "execution_count": null,
      "outputs": [
        {
          "output_type": "stream",
          "name": "stdout",
          "text": [
            "RMSE: 0.8688\n",
            "MAE:  0.6669\n"
          ]
        }
      ]
    },
    {
      "cell_type": "markdown",
      "source": [
        "## **Predictions**\n"
      ],
      "metadata": {
        "id": "YuKFVeUS18FK"
      }
    },
    {
      "cell_type": "code",
      "source": [
        "# rounding to nearest start / half star y3ne momken yrate 3.5 aw 1.5 etc 34an hwa aslan kan byrate 3ady bel .5 fel dataset\n",
        "def round_to_nearest_half(value):\n",
        "    return round(value * 2) / 2\n",
        "\n",
        "# Predict a rating for a specific user and item\n",
        "user_id = 1  #user i used before\n",
        "movie_id = 2354  #toy story 2 34an b7b el movie da\n",
        "predicted_rating = model.predict(user_id, movie_id).est#.est attribute specifically gives you the predicted rating 34an a3mlo rounding\n",
        "pred_rounded= round_to_nearest_half(predicted_rating)\n",
        "print(f\"Predicted rating for user {user_id} and movie {movie_id}: {predicted_rating} , which is rounded to: {pred_rounded}\")\n",
        "# most likely to rate high is correct because he already likes that movie and that genre"
      ],
      "metadata": {
        "colab": {
          "base_uri": "https://localhost:8080/"
        },
        "id": "hP_rzEGrv9bD",
        "outputId": "c68f71bf-97d0-4b8e-dec7-dec4d3aad9d6"
      },
      "execution_count": null,
      "outputs": [
        {
          "output_type": "stream",
          "name": "stdout",
          "text": [
            "Predicted rating for user 1 and movie 2354: 3.7805485049303416 , which is rounded to: 4.0\n"
          ]
        }
      ]
    },
    {
      "cell_type": "markdown",
      "source": [
        "**Insights**\n",
        "\n",
        "Its is very good prediction knowing that user 1 already likes 2354 movie (toy story 2)."
      ],
      "metadata": {
        "id": "Je35bZPd2DRo"
      }
    }
  ],
  "metadata": {
    "colab": {
      "provenance": []
    },
    "kernelspec": {
      "display_name": "base",
      "language": "python",
      "name": "python3"
    },
    "language_info": {
      "codemirror_mode": {
        "name": "ipython",
        "version": 3
      },
      "file_extension": ".py",
      "mimetype": "text/x-python",
      "name": "python",
      "nbconvert_exporter": "python",
      "pygments_lexer": "ipython3",
      "version": "3.11.5"
    }
  },
  "nbformat": 4,
  "nbformat_minor": 0
}